{
  "cells": [
    {
      "metadata": {
        "trusted": true
      },
      "cell_type": "code",
      "source": "!pip install graphviz",
      "execution_count": 165,
      "outputs": [
        {
          "output_type": "stream",
          "text": "Requirement already satisfied: graphviz in /home/nbuser/anaconda3_501/lib/python3.6/site-packages (0.11.1)\n\u001b[33mWARNING: You are using pip version 19.2.2, however version 19.2.3 is available.\nYou should consider upgrading via the 'pip install --upgrade pip' command.\u001b[0m\n",
          "name": "stdout"
        }
      ]
    },
    {
      "metadata": {
        "trusted": true
      },
      "cell_type": "code",
      "source": "from graphviz import Digraph, Graph, Source",
      "execution_count": 2,
      "outputs": []
    },
    {
      "metadata": {
        "trusted": true
      },
      "cell_type": "code",
      "source": "dot = Digraph(comment='The Round Table')\ndot.node('A', 'King Arthur')\ndot.node('B', 'Sir Bedevere the Wise')\ndot.node('L', 'Sir Lancelot the Brave')\n\ndot.edges(['AB', 'AL'])\ndot.edge('B', 'L', constraint='false')",
      "execution_count": 3,
      "outputs": []
    },
    {
      "metadata": {
        "trusted": true
      },
      "cell_type": "code",
      "source": "dot.render('test-output/round-table.gv', view=True, format='png')",
      "execution_count": 4,
      "outputs": [
        {
          "output_type": "execute_result",
          "execution_count": 4,
          "data": {
            "text/plain": "'test-output/round-table.gv.png'"
          },
          "metadata": {}
        }
      ]
    },
    {
      "metadata": {
        "trusted": true
      },
      "cell_type": "code",
      "source": "# lon_lon = Graph(engine='neato')\nlon_lon = Digraph(engine='fdp')",
      "execution_count": 28,
      "outputs": []
    },
    {
      "metadata": {
        "trusted": true
      },
      "cell_type": "code",
      "source": "lon_lon.attr('node', shape='doublecircle')",
      "execution_count": 29,
      "outputs": []
    },
    {
      "metadata": {
        "trusted": true
      },
      "cell_type": "code",
      "source": "lon_lon.node('a', 'London')\nlon_lon.node('b', 'Bayswater')\nlon_lon.node('c', 'Income Tax Office')\nlon_lon.node('e', 'Bus')\nlon_lon.node('g', 'Waterloo Station')",
      "execution_count": 30,
      "outputs": []
    },
    {
      "metadata": {
        "trusted": true
      },
      "cell_type": "code",
      "source": "lon_lon.attr('node', shape='circle')",
      "execution_count": 31,
      "outputs": []
    },
    {
      "metadata": {
        "trusted": true
      },
      "cell_type": "code",
      "source": "lon_lon.node('d', 'Trinidad')\nlon_lon.node('f', 'Brit\\'n')\nlon_lon.node('h', 'Port of Spain')\nlon_lon.node('i', 'West Indies')\nlon_lon.node('j', 'Grenada')\nlon_lon.node('k', 'the tropics')\nlon_lon.node('l', 'Barbados')\nlon_lon.node('m', 'Jamaica')\nlon_lon.node('m', 'Antigua')",
      "execution_count": 32,
      "outputs": []
    },
    {
      "metadata": {
        "trusted": true
      },
      "cell_type": "code",
      "source": "lon_lon.edge(tail_name='a', head_name='b', label='contains')\nlon_lon.edge(tail_name='a', head_name='c', label='contains')\nlon_lon.edge(tail_name='b', head_name='e', label='direct')\nlon_lon.edge(tail_name='e', head_name='g', label='direct')\nlon_lon.edge(tail_name='b', head_name='d', label='indirect')\nlon_lon.edge(tail_name='b', head_name='i', label='indirect')\nlon_lon.edge(tail_name='g', head_name='h', label='indirect')\nlon_lon.edge(tail_name='g', head_name='i', label='indirect')\nlon_lon.edge(tail_name='g', head_name='j', label='direct')\nlon_lon.edge(tail_name='g', head_name='k', label='indirect')\nlon_lon.edge(tail_name='g', head_name='l', label='indirect')\nlon_lon.edge(tail_name='g', head_name='m', label='indirect')",
      "execution_count": 33,
      "outputs": []
    },
    {
      "metadata": {
        "trusted": true
      },
      "cell_type": "code",
      "source": "lon_lon.attr('graph', overlap='scale')",
      "execution_count": 44,
      "outputs": []
    },
    {
      "metadata": {
        "trusted": true
      },
      "cell_type": "code",
      "source": "lon_lon.render('test-output/lonely-londoners-2.gv', view=True, format='svg')",
      "execution_count": 45,
      "outputs": [
        {
          "output_type": "execute_result",
          "execution_count": 45,
          "data": {
            "text/plain": "'test-output/lonely-londoners-2.gv.svg'"
          },
          "metadata": {}
        }
      ]
    },
    {
      "metadata": {
        "trusted": true
      },
      "cell_type": "code",
      "source": "Source.from_file('test-output/lonely-londoners-2.gv', engine='neato')",
      "execution_count": 46,
      "outputs": [
        {
          "output_type": "execute_result",
          "execution_count": 46,
          "data": {
            "text/plain": "<graphviz.files.Source at 0x7f09ab2cf9b0>",
            "image/svg+xml": "<?xml version=\"1.0\" encoding=\"UTF-8\" standalone=\"no\"?>\n<!DOCTYPE svg PUBLIC \"-//W3C//DTD SVG 1.1//EN\"\n \"http://www.w3.org/Graphics/SVG/1.1/DTD/svg11.dtd\">\n<!-- Generated by graphviz version 2.38.0 (20140413.2041)\n -->\n<!-- Title: %3 Pages: 1 -->\n<svg width=\"650pt\" height=\"976pt\"\n viewBox=\"0.00 0.00 649.72 975.75\" xmlns=\"http://www.w3.org/2000/svg\" xmlns:xlink=\"http://www.w3.org/1999/xlink\">\n<g id=\"graph0\" class=\"graph\" transform=\"scale(1 1) rotate(0) translate(309.25 483.64)\">\n<title>%3</title>\n<polygon fill=\"white\" stroke=\"none\" points=\"-309.25,492.109 -309.25,-483.64 340.474,-483.64 340.474,492.109 -309.25,492.109\"/>\n<!-- a -->\n<g id=\"node1\" class=\"node\"><title>a</title>\n<ellipse fill=\"none\" stroke=\"black\" cx=\"-95.2916\" cy=\"-264.007\" rx=\"38.2082\" ry=\"38.2082\"/>\n<ellipse fill=\"none\" stroke=\"black\" cx=\"-95.2916\" cy=\"-264.007\" rx=\"42.1937\" ry=\"42.1937\"/>\n<text text-anchor=\"middle\" x=\"-95.2916\" y=\"-260.307\" font-family=\"Times,serif\" font-size=\"14.00\">London</text>\n</g>\n<!-- b -->\n<g id=\"node2\" class=\"node\"><title>b</title>\n<ellipse fill=\"none\" stroke=\"black\" cx=\"48.7941\" cy=\"-128.242\" rx=\"48.1843\" ry=\"48.1843\"/>\n<ellipse fill=\"none\" stroke=\"black\" cx=\"48.7941\" cy=\"-128.242\" rx=\"52.1916\" ry=\"52.1916\"/>\n<text text-anchor=\"middle\" x=\"48.7941\" y=\"-124.542\" font-family=\"Times,serif\" font-size=\"14.00\">Bayswater</text>\n</g>\n<!-- a&#45;&gt;b -->\n<g id=\"edge1\" class=\"edge\"><title>a&#45;&gt;b</title>\n<path fill=\"none\" stroke=\"black\" d=\"M-64.3816,-234.882C-44.62,-216.262 -18.6488,-191.79 3.42962,-170.987\"/>\n<polygon fill=\"black\" stroke=\"black\" points=\"5.8754,-173.491 10.7533,-164.086 1.07492,-168.396 5.8754,-173.491\"/>\n<text text-anchor=\"middle\" x=\"-53.476\" y=\"-206.734\" font-family=\"Times,serif\" font-size=\"14.00\">contains</text>\n</g>\n<!-- c -->\n<g id=\"node3\" class=\"node\"><title>c</title>\n<ellipse fill=\"none\" stroke=\"black\" cx=\"-222.607\" cy=\"-396.997\" rx=\"78.7794\" ry=\"78.7794\"/>\n<ellipse fill=\"none\" stroke=\"black\" cx=\"-222.607\" cy=\"-396.997\" rx=\"82.7863\" ry=\"82.7863\"/>\n<text text-anchor=\"middle\" x=\"-222.607\" y=\"-393.297\" font-family=\"Times,serif\" font-size=\"14.00\">Income Tax Office</text>\n</g>\n<!-- a&#45;&gt;c -->\n<g id=\"edge2\" class=\"edge\"><title>a&#45;&gt;c</title>\n<path fill=\"none\" stroke=\"black\" d=\"M-124.82,-294.852C-134.952,-305.435 -146.722,-317.73 -158.512,-330.045\"/>\n<polygon fill=\"black\" stroke=\"black\" points=\"-161.056,-327.641 -165.443,-337.285 -156,-332.482 -161.056,-327.641\"/>\n<text text-anchor=\"middle\" x=\"-164.666\" y=\"-301.248\" font-family=\"Times,serif\" font-size=\"14.00\">contains</text>\n</g>\n<!-- e -->\n<g id=\"node4\" class=\"node\"><title>e</title>\n<ellipse fill=\"none\" stroke=\"black\" cx=\"-10.9387\" cy=\"62.5218\" rx=\"24.8692\" ry=\"24.8692\"/>\n<ellipse fill=\"none\" stroke=\"black\" cx=\"-10.9387\" cy=\"62.5218\" rx=\"28.897\" ry=\"28.897\"/>\n<text text-anchor=\"middle\" x=\"-10.9387\" y=\"66.2218\" font-family=\"Times,serif\" font-size=\"14.00\">Bus</text>\n</g>\n<!-- b&#45;&gt;e -->\n<g id=\"edge3\" class=\"edge\"><title>b&#45;&gt;e</title>\n<path fill=\"none\" stroke=\"black\" d=\"M33.1001,-78.1208C22.9582,-45.7316 9.97791,-4.27763 0.742953,25.2153\"/>\n<polygon fill=\"black\" stroke=\"black\" points=\"3.97176,26.6167 -2.35658,35.1139 -2.70841,24.525 3.97176,26.6167\"/>\n<text text-anchor=\"middle\" x=\"1.4215\" y=\"-30.2528\" font-family=\"Times,serif\" font-size=\"14.00\">direct</text>\n</g>\n<!-- d -->\n<g id=\"node6\" class=\"node\"><title>d</title>\n<ellipse fill=\"none\" stroke=\"black\" cx=\"199.601\" cy=\"-263.024\" rx=\"40.8928\" ry=\"40.8928\"/>\n<text text-anchor=\"middle\" x=\"199.601\" y=\"-259.324\" font-family=\"Times,serif\" font-size=\"14.00\">Trinidad</text>\n</g>\n<!-- b&#45;&gt;d -->\n<g id=\"edge5\" class=\"edge\"><title>b&#45;&gt;d</title>\n<path fill=\"none\" stroke=\"black\" d=\"M88.0232,-163.302C110.507,-183.397 138.614,-208.517 160.993,-228.518\"/>\n<polygon fill=\"black\" stroke=\"black\" points=\"158.862,-231.308 168.651,-235.363 163.527,-226.089 158.862,-231.308\"/>\n<text text-anchor=\"middle\" x=\"103.508\" y=\"-199.71\" font-family=\"Times,serif\" font-size=\"14.00\">indirect</text>\n</g>\n<!-- i -->\n<g id=\"node9\" class=\"node\"><title>i</title>\n<ellipse fill=\"none\" stroke=\"black\" cx=\"134.147\" cy=\"49.5065\" rx=\"53.0913\" ry=\"53.0913\"/>\n<text text-anchor=\"middle\" x=\"134.147\" y=\"53.2065\" font-family=\"Times,serif\" font-size=\"14.00\">West Indies</text>\n</g>\n<!-- b&#45;&gt;i -->\n<g id=\"edge6\" class=\"edge\"><title>b&#45;&gt;i</title>\n<path fill=\"none\" stroke=\"black\" d=\"M71.4431,-81.0751C82.2122,-58.6484 95.1817,-31.6392 106.524,-8.01861\"/>\n<polygon fill=\"black\" stroke=\"black\" points=\"109.772,-9.33959 110.946,1.19005 103.462,-6.30945 109.772,-9.33959\"/>\n<text text-anchor=\"middle\" x=\"67.9836\" y=\"-48.3469\" font-family=\"Times,serif\" font-size=\"14.00\">indirect</text>\n</g>\n<!-- g -->\n<g id=\"node5\" class=\"node\"><title>g</title>\n<ellipse fill=\"none\" stroke=\"black\" cx=\"78.3302\" cy=\"248.366\" rx=\"71.4876\" ry=\"71.4876\"/>\n<ellipse fill=\"none\" stroke=\"black\" cx=\"78.3302\" cy=\"248.366\" rx=\"75.4873\" ry=\"75.4873\"/>\n<text text-anchor=\"middle\" x=\"78.3302\" y=\"252.066\" font-family=\"Times,serif\" font-size=\"14.00\">Waterloo Station</text>\n</g>\n<!-- e&#45;&gt;g -->\n<g id=\"edge4\" class=\"edge\"><title>e&#45;&gt;g</title>\n<path fill=\"none\" stroke=\"black\" d=\"M1.66205,88.7546C11.9846,110.244 27.1383,141.792 41.2535,171.178\"/>\n<polygon fill=\"black\" stroke=\"black\" points=\"44.4192,169.685 45.5942,180.214 38.1094,172.716 44.4192,169.685\"/>\n<text text-anchor=\"middle\" x=\"5.95778\" y=\"126.166\" font-family=\"Times,serif\" font-size=\"14.00\">direct</text>\n</g>\n<!-- h -->\n<g id=\"node8\" class=\"node\"><title>h</title>\n<ellipse fill=\"none\" stroke=\"black\" cx=\"-60.1603\" cy=\"401.041\" rx=\"57.6901\" ry=\"57.6901\"/>\n<text text-anchor=\"middle\" x=\"-60.1603\" y=\"404.741\" font-family=\"Times,serif\" font-size=\"14.00\">Port of Spain</text>\n</g>\n<!-- g&#45;&gt;h -->\n<g id=\"edge7\" class=\"edge\"><title>g&#45;&gt;h</title>\n<path fill=\"none\" stroke=\"black\" d=\"M27.5479,304.349C13.8742,319.424 -0.835547,335.64 -14.2281,350.404\"/>\n<polygon fill=\"black\" stroke=\"black\" points=\"-11.788,352.924 -21.0991,357.979 -16.9728,348.221 -11.788,352.924\"/>\n<text text-anchor=\"middle\" x=\"-14.3401\" y=\"338.577\" font-family=\"Times,serif\" font-size=\"14.00\">indirect</text>\n</g>\n<!-- g&#45;&gt;i -->\n<g id=\"edge8\" class=\"edge\"><title>g&#45;&gt;i</title>\n<path fill=\"none\" stroke=\"black\" d=\"M98.7974,175.447C104.76,154.204 111.212,131.219 116.951,110.773\"/>\n<polygon fill=\"black\" stroke=\"black\" points=\"113.633,109.64 119.705,100.958 120.373,111.532 113.633,109.64\"/>\n<text text-anchor=\"middle\" x=\"86.874\" y=\"139.31\" font-family=\"Times,serif\" font-size=\"14.00\">indirect</text>\n</g>\n<!-- j -->\n<g id=\"node10\" class=\"node\"><title>j</title>\n<ellipse fill=\"none\" stroke=\"black\" cx=\"94.4124\" cy=\"447.812\" rx=\"40.0939\" ry=\"40.0939\"/>\n<text text-anchor=\"middle\" x=\"94.4124\" y=\"451.512\" font-family=\"Times,serif\" font-size=\"14.00\">Grenada</text>\n</g>\n<!-- g&#45;&gt;j -->\n<g id=\"edge9\" class=\"edge\"><title>g&#45;&gt;j</title>\n<path fill=\"none\" stroke=\"black\" d=\"M84.4102,323.768C86.3914,348.337 88.5416,375.004 90.339,397.295\"/>\n<polygon fill=\"black\" stroke=\"black\" points=\"93.8492,397.281 91.1643,407.53 86.8718,397.844 93.8492,397.281\"/>\n<text text-anchor=\"middle\" x=\"71.8746\" y=\"356.731\" font-family=\"Times,serif\" font-size=\"14.00\">direct</text>\n</g>\n<!-- k -->\n<g id=\"node11\" class=\"node\"><title>k</title>\n<ellipse fill=\"none\" stroke=\"black\" cx=\"288.378\" cy=\"231.2\" rx=\"48.1917\" ry=\"48.1917\"/>\n<text text-anchor=\"middle\" x=\"288.378\" y=\"234.9\" font-family=\"Times,serif\" font-size=\"14.00\">the tropics</text>\n</g>\n<!-- g&#45;&gt;k -->\n<g id=\"edge10\" class=\"edge\"><title>g&#45;&gt;k</title>\n<path fill=\"none\" stroke=\"black\" d=\"M153.866,242.193C178.967,240.141 206.513,237.89 230.105,235.962\"/>\n<polygon fill=\"black\" stroke=\"black\" points=\"230.047,232.455 240.298,235.129 230.617,239.432 230.047,232.455\"/>\n<text text-anchor=\"middle\" x=\"212.985\" y=\"235.278\" font-family=\"Times,serif\" font-size=\"14.00\">indirect</text>\n</g>\n<!-- l -->\n<g id=\"node12\" class=\"node\"><title>l</title>\n<ellipse fill=\"none\" stroke=\"black\" cx=\"239.714\" cy=\"374.668\" rx=\"44.393\" ry=\"44.393\"/>\n<text text-anchor=\"middle\" x=\"239.714\" y=\"378.368\" font-family=\"Times,serif\" font-size=\"14.00\">Barbados</text>\n</g>\n<!-- g&#45;&gt;l -->\n<g id=\"edge11\" class=\"edge\"><title>g&#45;&gt;l</title>\n<path fill=\"none\" stroke=\"black\" d=\"M137.965,295.037C157.431,310.272 178.655,326.882 196.658,340.971\"/>\n<polygon fill=\"black\" stroke=\"black\" points=\"198.967,338.334 204.685,347.253 194.653,343.847 198.967,338.334\"/>\n<text text-anchor=\"middle\" x=\"188.312\" y=\"314.204\" font-family=\"Times,serif\" font-size=\"14.00\">indirect</text>\n</g>\n<!-- m -->\n<g id=\"node13\" class=\"node\"><title>m</title>\n<ellipse fill=\"none\" stroke=\"black\" cx=\"-130.379\" cy=\"269.155\" rx=\"38.9931\" ry=\"38.9931\"/>\n<text text-anchor=\"middle\" x=\"-130.379\" y=\"272.855\" font-family=\"Times,serif\" font-size=\"14.00\">Antigua</text>\n</g>\n<!-- g&#45;&gt;m -->\n<g id=\"edge12\" class=\"edge\"><title>g&#45;&gt;m</title>\n<path fill=\"none\" stroke=\"black\" d=\"M2.9813,255.871C-25.1375,258.672 -56.3083,261.777 -81.4394,264.28\"/>\n<polygon fill=\"black\" stroke=\"black\" points=\"-81.1615,267.77 -91.4592,265.278 -81.8553,260.804 -81.1615,267.77\"/>\n<text text-anchor=\"middle\" x=\"-60.229\" y=\"256.276\" font-family=\"Times,serif\" font-size=\"14.00\">indirect</text>\n</g>\n<!-- f -->\n<g id=\"node7\" class=\"node\"><title>f</title>\n<ellipse fill=\"none\" stroke=\"black\" cx=\"-152\" cy=\"-92\" rx=\"30.5947\" ry=\"30.5947\"/>\n<text text-anchor=\"middle\" x=\"-152\" y=\"-88.3\" font-family=\"Times,serif\" font-size=\"14.00\">Brit&#39;n</text>\n</g>\n</g>\n</svg>\n"
          },
          "metadata": {}
        }
      ]
    },
    {
      "metadata": {
        "trusted": true
      },
      "cell_type": "code",
      "source": "",
      "execution_count": null,
      "outputs": []
    }
  ],
  "metadata": {
    "kernelspec": {
      "name": "python36",
      "display_name": "Python 3.6",
      "language": "python"
    },
    "language_info": {
      "mimetype": "text/x-python",
      "nbconvert_exporter": "python",
      "name": "python",
      "pygments_lexer": "ipython3",
      "version": "3.6.6",
      "file_extension": ".py",
      "codemirror_mode": {
        "version": 3,
        "name": "ipython"
      }
    }
  },
  "nbformat": 4,
  "nbformat_minor": 2
}