{
  "cells": [
    {
      "metadata": {},
      "cell_type": "markdown",
      "source": "Spatial Network Graphs in Python\n==========================\n\nThis workshop comes out of research conducted on Chronotopic Cartographies (https://www.lancaster.ac.uk/chronotopic-cartographies/), a digital humanities project underway at Lancaster University in the department of English and Creative Writing. The project aims to create new techniques and tools to visualise the relationships between literature and space.\n\nOne of the tools we're using on this project are _graphs_ (https://en.wikipedia.org/wiki/Graph_theory). Graphs, in a mathematical sense, are networks consisting of 'nodes', or the points on the network, and 'edges', the lines which connect them. They are very useful for describing the relationships between things: nodes can represent any object or concept, and the edges which connect them how those objects are related.\n\nGraphs have many applications across a range of different disciplines. For example, Facebook uses graphs to model the relationships between people (ie. 'Duncan' 'works with' 'Becca').\n\nA very simple example of a graph, consisting of two nodes connected by a single edge, might be tabulated like this:\n\n|Node|Edge|Node|\n|---|---|---|\n|Lancaster ===>|Contains ===>|Lancaster University|\n\nOn Chronotopic Cartographies, we're using graphs to visualise the spatial structure of stories and poems. Following scholars like Franco Moretti, in recent years there has been a lot of work on _mapping_ literature: that is, using tools like Geographic Information Systems (GIS - https://www.esri.com/en-us/what-is-gis/overview) to show the relationship between fiction and the real world. Chronotopic Cartographies takes a different approach because stories aren't always mappable in this way. A text like _The Hobbit_, for example, takes place in a world which has has no correspondence with ours, whilst _The Lion, The Witch, and The Wardrobe_ has passages which happen in the 'real' world and passages which happen in Narnia. Even in a realist novel like Charles Dickens's _Oliver Twist_, real-world locations are mixed with fictional ones. To truly map literature, we needed to find a way to represent these sorts of spaces.\n\nGraphs are particularly useful for this because they enable us to model what we might term 'story space': that is, to 'map' how the places which are referred to in a text or where action happens are related to one another without concerning ourselves with whether or not they can be mapped onto the real world.\n\nIn this workshop, you'll create a network graph of the spatial structure of an extract from _Sir Gawain and the Green Knight_. Along the way you'll learn some basics with the Python programming language, and learn how to use the GraphViz graph visualisation library.\n____\n\n## Part 1: Analysing Spatial Structure\n\nAs this workshop is about literary analysis first and Python second, we're going to start with a section of _Sir Gawain and the Green Knight_ and use some of the reading strategies that we've been using on Chronotopic Cartographies to analyse its spatial structure. As you'll see, whilst the passage you've been given has a clear spatial structure, there's some ambiguity to it, so each person's graph is likely to be slightly different. What we're creating, then, are not authoritative maps of the text, but of our interpretations of it.\n\n### Exercise: Identifying Spaces\n\nOn Chronotopic Cartographies, we're interested in two primary aspects of the spatial structure of texts: **settings**, or the places in the text in which the action happens; and **spatial references**, or the named places and topographic references in the text that are referred to but don't necessarily have action occurring in them. These will form the nodes of the graph that we'll create later in this workshop; the relations between them will form the edges.\n\n#### Settings\n\nA good way of thinking about **setting** is to imagine how you might stage or film a passage in a text: where is the scene occuring, and what sets might you need?\n\n- Read the extract from _Sir Gawain and the Green Knight_, and, with the person next to you, mark the places where you think the action occurs, or where the story moves from one place to another. \n\n- Once you've identified each setting, give each one a name.\n\n#### Spatial References\n\n**Spatial references** might be named sites ('Camelot' for example); or significant features in the landscapes described in the text ('the wilderness').\n\n- Go over the text and underline all of the spatial references and significant topographic features to which the text refers.\n\nWe'll use this passage later in the workshop; but before we can do anything with it, we need to cover some programming basics first.\n\n---"
    },
    {
      "metadata": {},
      "cell_type": "markdown",
      "source": "Part 2: Python Fundamentals\n------------\n\n*Python* is a programming language used widely in scientific computing and on the web, but as we'll see, also very useful for approaching the sort of data that humanities researchers work with.\n\nThe particular flavour of Python we're using is *iPython*, which allows us to combine text, code, images, equations and figures in a *Notebook*, like this one. \n\nThis is a *cell*, written in *markdown* - a way of writing nicely-formatted text. \n\nContrast this with the *code* cell below, which executes a bit of Python. Select the cell, press the 'run' button in the toolbar and the result will be output below it."
    },
    {
      "metadata": {
        "trusted": true
      },
      "cell_type": "code",
      "source": "print(1 + 1)",
      "execution_count": 2,
      "outputs": [
        {
          "output_type": "stream",
          "text": "2\n",
          "name": "stdout"
        }
      ]
    },
    {
      "metadata": {},
      "cell_type": "markdown",
      "source": "The Notebook format allows you to engage in [Literate Programming](http://en.wikipedia.org/wiki/Literate_programming):\n\n> […] Instead of writing code containing documentation, the literate programmer writes documentation containing code. No longer does the English commentary injected into a program have to be hidden in comment delimiters at the top of the file, or under procedure headings, or at the end of lines. Instead, it is wrenched into the daylight and made the main focus. The \"program\" then becomes primarily a document directed at humans, with the code being herded between \"code delimiters\" from where it can be extracted and shuffled out sideways to the language system by literate programming tools.\n[Ross Williams][1]\n\n[1]: http://www.literateprogramming.com/lpquotes.html\n\nBecause we're using Azure, you also don't have to install anything on your computer or do any complicated things to get up and running - you just need an internet connection and a web browser.\n\nAfter this workshop is over, you can use Azure for your own Python projects."
    },
    {
      "metadata": {},
      "cell_type": "markdown",
      "source": "Variables\n---------\n\nA computer program can be thought of as a list of instructions or a recipe. When you run a cell in an iPython notebook, the computer (tries) to execute each instruction in order. \n\nThese instructions can broadly be divided into verbs and nouns: things which *do* things, and things which *refer to* things. In Python, the *verbs* can be *commands*, *functions*, or *methods*. We won't worry too much about the distinction here - suffice it to say, they are the parts of code which manipulate data, calculate values, or show things on the screen.\n\nThe simplest proper noun object in Python is the *variable*. Variables are given names and store information. This information can be (for example), numeric, text, or boolean (true/false). These are all statements setting up variables:\n\nn = 1\n\nt = \"hi\"\n\nb = True\n\nNow let's try this in code. Run the cell below:"
    },
    {
      "metadata": {
        "trusted": true
      },
      "cell_type": "code",
      "source": "n = 1\n\nt = \"hi\"\n\nb = True",
      "execution_count": 3,
      "outputs": []
    },
    {
      "metadata": {},
      "cell_type": "markdown",
      "source": "Whilst it will seem as though nothing has happened, in fact, you have stored these variables. You can see these below.\n\nNote that each command is on a new line; other than that, the *syntax* of Python should be fairly obvious: we're setting these variables equal to the letters and numbers and phrases and booleans, or True or False values.\n\nThe value of this is we now have values tied to these variables - so every time we want to use a value, we can refer to the variable. Run the cells below to see this in action:"
    },
    {
      "metadata": {
        "trusted": true
      },
      "cell_type": "code",
      "source": "n",
      "execution_count": 4,
      "outputs": [
        {
          "output_type": "execute_result",
          "execution_count": 4,
          "data": {
            "text/plain": "1"
          },
          "metadata": {}
        }
      ]
    },
    {
      "metadata": {
        "trusted": true
      },
      "cell_type": "code",
      "source": "t",
      "execution_count": 5,
      "outputs": [
        {
          "output_type": "execute_result",
          "execution_count": 5,
          "data": {
            "text/plain": "'hi'"
          },
          "metadata": {}
        }
      ]
    },
    {
      "metadata": {
        "trusted": true
      },
      "cell_type": "code",
      "source": "b",
      "execution_count": 6,
      "outputs": [
        {
          "output_type": "execute_result",
          "execution_count": 6,
          "data": {
            "text/plain": "True"
          },
          "metadata": {}
        }
      ]
    },
    {
      "metadata": {},
      "cell_type": "markdown",
      "source": "Because we've defined these variables in the early part of the notebook, we can use them later on."
    },
    {
      "metadata": {},
      "cell_type": "markdown",
      "source": "Where is my data?\n-----------------\n\nWhen we work in Excel or a text editor, we're used to seeing our data on screen - and if we manipulate the data in some way (averaging or summing up), we see both the inputs and outputs on screen. The big difference in working with Python is that we don't see our variables all of the time, or the effect we're having on them. They're there in the background, but it's usually worth checking in on them from time to time, to see whether our processes are doing what we think they're doing.\n\nAs well as just typing the name of the variable, we can also use the 'print' statement to show what's going on."
    },
    {
      "metadata": {
        "trusted": true
      },
      "cell_type": "code",
      "source": "print(n)\nprint(t)\nprint(b)",
      "execution_count": 7,
      "outputs": [
        {
          "output_type": "stream",
          "text": "1\nhi\nTrue\n",
          "name": "stdout"
        }
      ]
    },
    {
      "metadata": {},
      "cell_type": "markdown",
      "source": "It is also possible to reassign the value of a variable once it has been created. For example, by adding 1 to n and saving the result as n, n is given the new value of 2:"
    },
    {
      "metadata": {
        "trusted": true
      },
      "cell_type": "code",
      "source": "n = n + 1\nprint(n)",
      "execution_count": 11,
      "outputs": [
        {
          "output_type": "stream",
          "text": "4\n",
          "name": "stdout"
        }
      ]
    },
    {
      "metadata": {},
      "cell_type": "markdown",
      "source": "Flow\n----\n\nPython, in common with all programming languages, executes commands in a sequence, which can be referred to as the *flow* of the code (we'll use the word \"code\" a lot - it just means commands written in the programming language). In most cases, code just executes in the order it's written. This is true within each *cell* (each block of text in the notebook), and it's true when we execute the cells in order; that's why we can refer back to the variables we defined earlier:"
    },
    {
      "metadata": {
        "trusted": true
      },
      "cell_type": "code",
      "source": "print(n)",
      "execution_count": 14,
      "outputs": [
        {
          "output_type": "stream",
          "text": "3\n",
          "name": "stdout"
        }
      ]
    },
    {
      "metadata": {},
      "cell_type": "markdown",
      "source": "If we make a change to one of these variables, say n:"
    },
    {
      "metadata": {
        "trusted": true
      },
      "cell_type": "code",
      "source": "n = 3",
      "execution_count": 13,
      "outputs": []
    },
    {
      "metadata": {},
      "cell_type": "markdown",
      "source": "and execute the \"print n\" command in the cell above again, you'll see that it has changed n to 3. So if we were to run the notebook cells out of order, the obvious flow of the code would be confused. \n\nFor this reason, try to write your code so it executes in order, one cell at a time. At least for the moment, this will make it easier to follow the logic of what you're doing to data."
    },
    {
      "metadata": {},
      "cell_type": "markdown",
      "source": "***Exercise - Setting up variables***:\n\n1. In the cell below, create the variable \"name\", and assign your name to it (don't forget to use quotation marks)\n\n2. Create a variable \"Python\" and assign a score out of 10 to how much you like Python. \n\n3. Create a variable \"prior\" and if you've used Python before, assign True; otherwise assign False to the variable\n\n4. Print these out to the screen"
    },
    {
      "metadata": {
        "trusted": true
      },
      "cell_type": "code",
      "source": "name = \"Duncan\"\npython = 7\nprior = True",
      "execution_count": 15,
      "outputs": []
    },
    {
      "metadata": {
        "trusted": true
      },
      "cell_type": "code",
      "source": "print(name)\nprint(python)\nprint(prior)",
      "execution_count": 17,
      "outputs": [
        {
          "output_type": "stream",
          "text": "Duncan\n7\nTrue\n",
          "name": "stdout"
        }
      ]
    },
    {
      "metadata": {},
      "cell_type": "markdown",
      "source": "Types of Data\n------------\n\nOur variables - 'n', 't', and 'b' are different *types* of data: an Integer, a String (which is the computery way of saying a collection of alphanumeric characters), and a Boolean (or True or False) respectively.\n\nWe can check this as follows:"
    },
    {
      "metadata": {
        "trusted": true
      },
      "cell_type": "code",
      "source": "print(type(n))\nprint(type(t))\nprint(type(b))",
      "execution_count": 18,
      "outputs": [
        {
          "output_type": "stream",
          "text": "<class 'int'>\n<class 'str'>\n<class 'bool'>\n",
          "name": "stdout"
        }
      ]
    },
    {
      "metadata": {},
      "cell_type": "markdown",
      "source": "**Exercise: In the cell below, print the types of the 'name', 'Python', and 'prior' variables you created earlier.**"
    },
    {
      "metadata": {
        "trusted": true
      },
      "cell_type": "code",
      "source": "print(type(prior))",
      "execution_count": 21,
      "outputs": [
        {
          "output_type": "stream",
          "text": "<class 'bool'>\n",
          "name": "stdout"
        }
      ]
    },
    {
      "metadata": {},
      "cell_type": "markdown",
      "source": "It's important to know what types of data you are working with, as sometimes the computer won't do what you expect when you try to work with it in the wrong way. For example, from Python's perspective '3' and 3 (without the quotation marks) are different sorts of things entirely:"
    },
    {
      "metadata": {
        "trusted": true
      },
      "cell_type": "code",
      "source": "a = 3\nb = 4\nc = '3'\nd = 'three'\n\nprint(a + b)\nprint(a + c)",
      "execution_count": 22,
      "outputs": [
        {
          "output_type": "stream",
          "text": "7\n",
          "name": "stdout"
        },
        {
          "output_type": "error",
          "ename": "TypeError",
          "evalue": "unsupported operand type(s) for +: 'int' and 'str'",
          "traceback": [
            "\u001b[0;31m---------------------------------------------------------------------------\u001b[0m",
            "\u001b[0;31mTypeError\u001b[0m                                 Traceback (most recent call last)",
            "\u001b[0;32m<ipython-input-22-2e56ee69754e>\u001b[0m in \u001b[0;36m<module>\u001b[0;34m()\u001b[0m\n\u001b[1;32m      5\u001b[0m \u001b[0;34m\u001b[0m\u001b[0m\n\u001b[1;32m      6\u001b[0m \u001b[0mprint\u001b[0m\u001b[0;34m(\u001b[0m\u001b[0ma\u001b[0m \u001b[0;34m+\u001b[0m \u001b[0mb\u001b[0m\u001b[0;34m)\u001b[0m\u001b[0;34m\u001b[0m\u001b[0m\n\u001b[0;32m----> 7\u001b[0;31m \u001b[0mprint\u001b[0m\u001b[0;34m(\u001b[0m\u001b[0ma\u001b[0m \u001b[0;34m+\u001b[0m \u001b[0mc\u001b[0m\u001b[0;34m)\u001b[0m\u001b[0;34m\u001b[0m\u001b[0m\n\u001b[0m",
            "\u001b[0;31mTypeError\u001b[0m: unsupported operand type(s) for +: 'int' and 'str'"
          ]
        }
      ]
    },
    {
      "metadata": {},
      "cell_type": "markdown",
      "source": "Congratulations! You just got (hopefully) your first error message.\n\nWhilst they can be discouraging, error messages are **good** because they tell you what you've done wrong and where. \n\nLet's look at the message again:\n\n```\nTypeErrorTraceback (most recent call last)\n<ipython-input-18-885691a69056> in <module>()\n      6 print a + b\n----> 7 print a + c\n\nTypeError: unsupported operand type(s) for +: 'int' and 'str'\n```\n\nThe first line of the message tells you what sort of error has occurred - in this case a 'TypeError'. This means that you've tried to do something with a variable that it doesn't make sense to do. \n\nIf we look at the last line of the error message - ```unsupported operand type(s) for +: 'int' and 'str'``` - it tells us what the problem is more detail - we've tried to add together a number (in this case an integer) and a string. From Python's perspective, this doesn't make any sense, so it throws an error.\n\nThe lines in the middle - the 'Traceback' - tell you *where* the error occurred - in this case, line 7.\n\n**Learning how to read error messages is a very important part of programming!**\n\n**Exercise: What happens when you add variables c and d together?**"
    },
    {
      "metadata": {
        "trusted": true
      },
      "cell_type": "code",
      "source": "print(c + d)",
      "execution_count": 23,
      "outputs": [
        {
          "output_type": "stream",
          "text": "3three\n",
          "name": "stdout"
        }
      ]
    },
    {
      "metadata": {},
      "cell_type": "markdown",
      "source": "_______\nPart 2: The GraphViz Library\n---------\n\nEven with the few things we've learned so far you - variables, operands, and types - we can do quite a lot. However, to do some real work, unless we want to spend the next 10 years turning ourselves into Python geniuses, we're going to have to rely on other people's efforts. \n\nThe way that we do this is by using *libraries* - collections of tools written by other programmers that are not part of the core Python language and which provide additional functions and techniques to help us do things.\n\nTo make our graph visualisations we're going to be working with the GraphViz library. GraphViz allows you to create and display network graphs. You can read more about what it's capable of here: https://graphviz.org/\n\nThe next few cells go over the basics of how you go about working with it."
    },
    {
      "metadata": {},
      "cell_type": "markdown",
      "source": "### Importing Components\n\nTo start working with a library, the first thing you need to do is _import_ the components you want to work with into your library. To begin with, we're going to import one component (or, to be specific, a _Class_): _Digraph_. This allows us to create a 'directed' graph, or one which encodes the direction of the edges that link the nodes of a network.\n\nTo get started, run the cell below:"
    },
    {
      "metadata": {
        "trusted": true
      },
      "cell_type": "code",
      "source": "from graphviz import Digraph",
      "execution_count": 24,
      "outputs": []
    },
    {
      "metadata": {
        "trusted": true
      },
      "cell_type": "markdown",
      "source": "Although we haven't got any feedback to show it, the Digraph class is now available to do some work with. To create a new empty graph, we create a variable to hold it in, like so:"
    },
    {
      "metadata": {
        "trusted": true
      },
      "cell_type": "code",
      "source": "graph = Digraph()",
      "execution_count": 25,
      "outputs": []
    },
    {
      "metadata": {},
      "cell_type": "markdown",
      "source": "We can find out a little bit more about what we can do with a Digraph object by typing the name of our new variable followed by a full stop and then pressing the 'tab' key. Give it a go in the cell below:"
    },
    {
      "metadata": {
        "trusted": true
      },
      "cell_type": "code",
      "source": "graph.",
      "execution_count": null,
      "outputs": []
    },
    {
      "metadata": {},
      "cell_type": "markdown",
      "source": "You should get a list of all of the things that a Digraph object can do. As we've covered already, a graph is a way of describing things or concepts (nodes) and the relations between (edges) as a network. \n\nIn the list of things our new Digraph object can do you may have spotted 'graph.node' and 'graph.edge'. We can find out more about these by following them with a question mark and then running the cell, like so:"
    },
    {
      "metadata": {
        "trusted": true
      },
      "cell_type": "code",
      "source": "graph.node?",
      "execution_count": 28,
      "outputs": []
    },
    {
      "metadata": {},
      "cell_type": "markdown",
      "source": "A window should appear at the bottom of your screen telling you more about .ndoe. As you might expect, .node creates a new node on the network."
    },
    {
      "metadata": {
        "trusted": true
      },
      "cell_type": "code",
      "source": "graph.edge?",
      "execution_count": 32,
      "outputs": []
    },
    {
      "metadata": {},
      "cell_type": "markdown",
      "source": "And .edge creates an edge between two nodes.\n\n### Populating the Graph\n\nTo start populating our graph, then, we need to create some nodes. To do this, first run the graph.node? cell again. In the window that pops up at the bottom of your screen, you'll see a list of 'Args', or _arguments_ which we can pass to .node. These define the properties of a node. \n\nThe syntax for passing arguments is very similar to setting the value of a variable: the name of the argument followed by the equals sign and then the value that you wish to pass. Note that mulptiple arguments are separated by a comma.\n\nLet's make a node:"
    },
    {
      "metadata": {
        "trusted": true
      },
      "cell_type": "code",
      "source": "graph.node(name='A', label='Charles Dickens')",
      "execution_count": 29,
      "outputs": []
    },
    {
      "metadata": {},
      "cell_type": "markdown",
      "source": "And a few more:"
    },
    {
      "metadata": {
        "trusted": true
      },
      "cell_type": "code",
      "source": "graph.node(name='B', label='Little Doritt')\ngraph.node(name='C', label='Bleak House')\ngraph.node(name='D', label='A Tale of Two Cities')",
      "execution_count": 30,
      "outputs": []
    },
    {
      "metadata": {},
      "cell_type": "markdown",
      "source": "**Exercise: Add another node to the network in the cell below**\n\n(Preferably a book by Charles Dickens)"
    },
    {
      "metadata": {
        "trusted": true
      },
      "cell_type": "code",
      "source": "graph.node(name='E', label='Pickwick Papers')",
      "execution_count": 31,
      "outputs": []
    },
    {
      "metadata": {},
      "cell_type": "markdown",
      "source": "Adding an edge is very similar; however, rather than passing a 'name' argument, we need to give 'tail_name' and 'head_name' arguments instead (you can check this by running the graph.edge? cell above).\n\nAs you can see, this is why the 'name' argument needs to be unique for each node, as we use the names of the nodes to distinguish them from one another:"
    },
    {
      "metadata": {
        "trusted": true
      },
      "cell_type": "code",
      "source": "graph.edge(tail_name='A', head_name='B', label='wrote')",
      "execution_count": 33,
      "outputs": []
    },
    {
      "metadata": {},
      "cell_type": "markdown",
      "source": "**Exercise: Add edges connecting the other nodes to each other (as you see fit)**"
    },
    {
      "metadata": {
        "trusted": true
      },
      "cell_type": "code",
      "source": "graph.edge(tail_name='A', head_name='C', label='wrote')\ngraph.edge(tail_name='A', head_name='D', label='wrote')\ngraph.edge(tail_name='A', head_name='E', label='wrote')\n",
      "execution_count": 34,
      "outputs": []
    },
    {
      "metadata": {},
      "cell_type": "markdown",
      "source": "You should now have a graph of nodes (Dickens and his novels) and edges (the relationship between these nodes). We can get a list of what's in it by running the following command:"
    },
    {
      "metadata": {
        "trusted": true
      },
      "cell_type": "code",
      "source": "print(graph.source)",
      "execution_count": 35,
      "outputs": [
        {
          "output_type": "stream",
          "text": "digraph {\n\tA [label=\"Charles Dickens\"]\n\tB [label=\"Little Doritt\"]\n\tC [label=\"Bleak House\"]\n\tD [label=\"A Tale of Two Cities\"]\n\tE [label=\"Pickwick Papers\"]\n\tA -> B [label=wrote]\n\tA -> C [label=wrote]\n\tA -> D [label=wrote]\n\tA -> E [label=wrote]\n}\n",
          "name": "stdout"
        }
      ]
    },
    {
      "metadata": {},
      "cell_type": "markdown",
      "source": "You should get a list of nodes followed by their labels, and a list of edges in the format 'A -> B'.\n\n### Displaying the graph\n\nThis is all very well, but it'd be much more helpful if we could visualise this information. To do this, we have to save the output from the previous command as a file. We can use the .save method to do this, like so:"
    },
    {
      "metadata": {
        "trusted": true
      },
      "cell_type": "code",
      "source": "graph.save(filename='dickens.gv')",
      "execution_count": 36,
      "outputs": [
        {
          "output_type": "execute_result",
          "execution_count": 36,
          "data": {
            "text/plain": "'dickens.gv'"
          },
          "metadata": {}
        }
      ]
    },
    {
      "metadata": {},
      "cell_type": "markdown",
      "source": "Finally, we can use another component of the GraphViz library - Source - to render the graph. As before, we need to import it into our notebook as follows:"
    },
    {
      "metadata": {
        "trusted": true
      },
      "cell_type": "code",
      "source": "from graphviz import Source",
      "execution_count": 37,
      "outputs": []
    },
    {
      "metadata": {},
      "cell_type": "markdown",
      "source": "Just like the Digraph Class we imported above, Source contains a number of functions. One of them, .from_file, enables us to draw a graph as an image from the file we just saved:"
    },
    {
      "metadata": {
        "trusted": true
      },
      "cell_type": "code",
      "source": "Source.from_file(filename='dickens.gv')",
      "execution_count": 38,
      "outputs": [
        {
          "output_type": "execute_result",
          "execution_count": 38,
          "data": {
            "text/plain": "<graphviz.files.Source at 0x7f952c0810b8>",
            "image/svg+xml": "<?xml version=\"1.0\" encoding=\"UTF-8\" standalone=\"no\"?>\n<!DOCTYPE svg PUBLIC \"-//W3C//DTD SVG 1.1//EN\"\n \"http://www.w3.org/Graphics/SVG/1.1/DTD/svg11.dtd\">\n<!-- Generated by graphviz version 2.38.0 (20140413.2041)\n -->\n<!-- Title: %3 Pages: 1 -->\n<svg width=\"592pt\" height=\"131pt\"\n viewBox=\"0.00 0.00 591.84 131.00\" xmlns=\"http://www.w3.org/2000/svg\" xmlns:xlink=\"http://www.w3.org/1999/xlink\">\n<g id=\"graph0\" class=\"graph\" transform=\"scale(1 1) rotate(0) translate(4 127)\">\n<title>%3</title>\n<polygon fill=\"white\" stroke=\"none\" points=\"-4,4 -4,-127 587.839,-127 587.839,4 -4,4\"/>\n<!-- A -->\n<g id=\"node1\" class=\"node\"><title>A</title>\n<ellipse fill=\"none\" stroke=\"black\" cx=\"260.295\" cy=\"-105\" rx=\"68.7879\" ry=\"18\"/>\n<text text-anchor=\"middle\" x=\"260.295\" y=\"-101.3\" font-family=\"Times,serif\" font-size=\"14.00\">Charles Dickens</text>\n</g>\n<!-- B -->\n<g id=\"node2\" class=\"node\"><title>B</title>\n<ellipse fill=\"none\" stroke=\"black\" cx=\"53.2953\" cy=\"-18\" rx=\"53.0913\" ry=\"18\"/>\n<text text-anchor=\"middle\" x=\"53.2953\" y=\"-14.3\" font-family=\"Times,serif\" font-size=\"14.00\">Little Doritt</text>\n</g>\n<!-- A&#45;&gt;B -->\n<g id=\"edge1\" class=\"edge\"><title>A&#45;&gt;B</title>\n<path fill=\"none\" stroke=\"black\" d=\"M224.711,-89.388C188.692,-74.5978 133.027,-51.74 94.968,-36.112\"/>\n<polygon fill=\"black\" stroke=\"black\" points=\"96.2741,-32.8648 85.6941,-32.3039 93.6151,-39.3401 96.2741,-32.8648\"/>\n<text text-anchor=\"middle\" x=\"184.795\" y=\"-57.8\" font-family=\"Times,serif\" font-size=\"14.00\">wrote</text>\n</g>\n<!-- C -->\n<g id=\"node3\" class=\"node\"><title>C</title>\n<ellipse fill=\"none\" stroke=\"black\" cx=\"180.295\" cy=\"-18\" rx=\"55.7903\" ry=\"18\"/>\n<text text-anchor=\"middle\" x=\"180.295\" y=\"-14.3\" font-family=\"Times,serif\" font-size=\"14.00\">Bleak House</text>\n</g>\n<!-- A&#45;&gt;C -->\n<g id=\"edge2\" class=\"edge\"><title>A&#45;&gt;C</title>\n<path fill=\"none\" stroke=\"black\" d=\"M244.49,-87.2067C232.579,-74.5518 216.084,-57.026 202.798,-42.9088\"/>\n<polygon fill=\"black\" stroke=\"black\" points=\"205.198,-40.3524 195.796,-35.4692 200.101,-45.15 205.198,-40.3524\"/>\n<text text-anchor=\"middle\" x=\"240.795\" y=\"-57.8\" font-family=\"Times,serif\" font-size=\"14.00\">wrote</text>\n</g>\n<!-- D -->\n<g id=\"node4\" class=\"node\"><title>D</title>\n<ellipse fill=\"none\" stroke=\"black\" cx=\"340.295\" cy=\"-18\" rx=\"86.3847\" ry=\"18\"/>\n<text text-anchor=\"middle\" x=\"340.295\" y=\"-14.3\" font-family=\"Times,serif\" font-size=\"14.00\">A Tale of Two Cities</text>\n</g>\n<!-- A&#45;&gt;D -->\n<g id=\"edge3\" class=\"edge\"><title>A&#45;&gt;D</title>\n<path fill=\"none\" stroke=\"black\" d=\"M276.101,-87.2067C287.934,-74.6335 304.293,-57.252 317.535,-43.1825\"/>\n<polygon fill=\"black\" stroke=\"black\" points=\"320.218,-45.4392 324.523,-35.7584 315.12,-40.6416 320.218,-45.4392\"/>\n<text text-anchor=\"middle\" x=\"320.795\" y=\"-57.8\" font-family=\"Times,serif\" font-size=\"14.00\">wrote</text>\n</g>\n<!-- E -->\n<g id=\"node5\" class=\"node\"><title>E</title>\n<ellipse fill=\"none\" stroke=\"black\" cx=\"514.295\" cy=\"-18\" rx=\"69.5877\" ry=\"18\"/>\n<text text-anchor=\"middle\" x=\"514.295\" y=\"-14.3\" font-family=\"Times,serif\" font-size=\"14.00\">Pickwick Papers</text>\n</g>\n<!-- A&#45;&gt;E -->\n<g id=\"edge4\" class=\"edge\"><title>A&#45;&gt;E</title>\n<path fill=\"none\" stroke=\"black\" d=\"M300.823,-90.4375C345.112,-75.6163 416.121,-51.8534 463.952,-35.8472\"/>\n<polygon fill=\"black\" stroke=\"black\" points=\"465.119,-39.1475 473.491,-32.6549 462.897,-32.5093 465.119,-39.1475\"/>\n<text text-anchor=\"middle\" x=\"418.795\" y=\"-57.8\" font-family=\"Times,serif\" font-size=\"14.00\">wrote</text>\n</g>\n</g>\n</svg>\n"
          },
          "metadata": {}
        }
      ]
    },
    {
      "metadata": {},
      "cell_type": "markdown",
      "source": "If we investigate what else .from_file can do using the '?' technique we used earlier, we can see that it takes other arguments as well as 'filename':"
    },
    {
      "metadata": {
        "trusted": true
      },
      "cell_type": "code",
      "source": "Source.from_file?",
      "execution_count": 39,
      "outputs": []
    },
    {
      "metadata": {},
      "cell_type": "markdown",
      "source": "Under the list of arguments, you'll see that there is one called 'engine'. This allows us to change the way the graph is laid out. If you scroll down to the 'roadmap' section on this website - http://www.graphviz.org/ - you can see a list of all the different layout engines available.\n\n**Exercise: Use the 'engine' argument to experiment with different graph layouts**\n\n(Note: You may get an error using the 'twopi' layout)."
    },
    {
      "metadata": {
        "trusted": true
      },
      "cell_type": "code",
      "source": "Source.from_file(filename='dickens.gv', engine='circo')",
      "execution_count": 40,
      "outputs": [
        {
          "output_type": "execute_result",
          "execution_count": 40,
          "data": {
            "text/plain": "<graphviz.files.Source at 0x7f952c081828>",
            "image/svg+xml": "<?xml version=\"1.0\" encoding=\"UTF-8\" standalone=\"no\"?>\n<!DOCTYPE svg PUBLIC \"-//W3C//DTD SVG 1.1//EN\"\n \"http://www.w3.org/Graphics/SVG/1.1/DTD/svg11.dtd\">\n<!-- Generated by graphviz version 2.38.0 (20140413.2041)\n -->\n<!-- Title: %3 Pages: 1 -->\n<svg width=\"602pt\" height=\"497pt\"\n viewBox=\"0.00 0.00 602.00 497.26\" xmlns=\"http://www.w3.org/2000/svg\" xmlns:xlink=\"http://www.w3.org/1999/xlink\">\n<g id=\"graph0\" class=\"graph\" transform=\"scale(1 1) rotate(0) translate(4 493.26)\">\n<title>%3</title>\n<polygon fill=\"white\" stroke=\"none\" points=\"-4,4 -4,-493.26 598,-493.26 598,4 -4,4\"/>\n<!-- A -->\n<g id=\"node1\" class=\"node\"><title>A</title>\n<ellipse fill=\"none\" stroke=\"black\" cx=\"313.369\" cy=\"-245.127\" rx=\"68.7879\" ry=\"18\"/>\n<text text-anchor=\"middle\" x=\"313.369\" y=\"-241.427\" font-family=\"Times,serif\" font-size=\"14.00\">Charles Dickens</text>\n</g>\n<!-- B -->\n<g id=\"node2\" class=\"node\"><title>B</title>\n<ellipse fill=\"none\" stroke=\"black\" cx=\"540.705\" cy=\"-245.127\" rx=\"53.0913\" ry=\"18\"/>\n<text text-anchor=\"middle\" x=\"540.705\" y=\"-241.427\" font-family=\"Times,serif\" font-size=\"14.00\">Little Doritt</text>\n</g>\n<!-- A&#45;&gt;B -->\n<g id=\"edge1\" class=\"edge\"><title>A&#45;&gt;B</title>\n<path fill=\"none\" stroke=\"black\" d=\"M382.503,-245.127C412.535,-245.127 447.493,-245.127 476.898,-245.127\"/>\n<polygon fill=\"black\" stroke=\"black\" points=\"477.051,-248.627 487.051,-245.127 477.051,-241.627 477.051,-248.627\"/>\n<text text-anchor=\"middle\" x=\"414.201\" y=\"-248.927\" font-family=\"Times,serif\" font-size=\"14.00\">wrote</text>\n</g>\n<!-- C -->\n<g id=\"node3\" class=\"node\"><title>C</title>\n<ellipse fill=\"none\" stroke=\"black\" cx=\"336.726\" cy=\"-471.26\" rx=\"55.7903\" ry=\"18\"/>\n<text text-anchor=\"middle\" x=\"336.726\" y=\"-467.56\" font-family=\"Times,serif\" font-size=\"14.00\">Bleak House</text>\n</g>\n<!-- A&#45;&gt;C -->\n<g id=\"edge2\" class=\"edge\"><title>A&#45;&gt;C</title>\n<path fill=\"none\" stroke=\"black\" d=\"M315.241,-263.25C319.298,-302.532 328.929,-395.771 333.798,-442.919\"/>\n<polygon fill=\"black\" stroke=\"black\" points=\"330.336,-443.463 334.845,-453.051 337.299,-442.744 330.336,-443.463\"/>\n<text text-anchor=\"middle\" x=\"309.02\" y=\"-356.885\" font-family=\"Times,serif\" font-size=\"14.00\">wrote</text>\n</g>\n<!-- D -->\n<g id=\"node4\" class=\"node\"><title>D</title>\n<ellipse fill=\"none\" stroke=\"black\" cx=\"86.4423\" cy=\"-258.768\" rx=\"86.3847\" ry=\"18\"/>\n<text text-anchor=\"middle\" x=\"86.4423\" y=\"-255.068\" font-family=\"Times,serif\" font-size=\"14.00\">A Tale of Two Cities</text>\n</g>\n<!-- A&#45;&gt;D -->\n<g id=\"edge3\" class=\"edge\"><title>A&#45;&gt;D</title>\n<path fill=\"none\" stroke=\"black\" d=\"M246.205,-249.164C225.351,-250.418 201.978,-251.823 179.683,-253.163\"/>\n<polygon fill=\"black\" stroke=\"black\" points=\"179.299,-249.68 169.527,-253.774 179.719,-256.667 179.299,-249.68\"/>\n<text text-anchor=\"middle\" x=\"197.444\" y=\"-254.964\" font-family=\"Times,serif\" font-size=\"14.00\">wrote</text>\n</g>\n<!-- E -->\n<g id=\"node5\" class=\"node\"><title>E</title>\n<ellipse fill=\"none\" stroke=\"black\" cx=\"323.115\" cy=\"-18\" rx=\"69.5877\" ry=\"18\"/>\n<text text-anchor=\"middle\" x=\"323.115\" y=\"-14.3\" font-family=\"Times,serif\" font-size=\"14.00\">Pickwick Papers</text>\n</g>\n<!-- A&#45;&gt;E -->\n<g id=\"edge4\" class=\"edge\"><title>A&#45;&gt;E</title>\n<path fill=\"none\" stroke=\"black\" d=\"M314.15,-226.924C315.843,-187.47 319.862,-93.821 321.894,-46.4656\"/>\n<polygon fill=\"black\" stroke=\"black\" points=\"325.398,-46.4304 322.33,-36.2895 318.405,-46.1302 325.398,-46.4304\"/>\n<text text-anchor=\"middle\" x=\"302.522\" y=\"-140.495\" font-family=\"Times,serif\" font-size=\"14.00\">wrote</text>\n</g>\n</g>\n</svg>\n"
          },
          "metadata": {}
        }
      ]
    },
    {
      "metadata": {},
      "cell_type": "markdown",
      "source": "### Changing Node Shapes\n\nOur graph models the relationship between two different sorts of entities: authors and books. It would be very helpful to be able to see the difference between the two. Happily GraphViz allows us to do this.\n\nRun the cell below to change the node shape:"
    },
    {
      "metadata": {
        "trusted": true
      },
      "cell_type": "code",
      "source": "graph.attr('node', shape='circle')",
      "execution_count": null,
      "outputs": []
    },
    {
      "metadata": {},
      "cell_type": "markdown",
      "source": "This works like a switch: once the shape attribute for nodes is set, every node added afterwards will have this style. Nodes added to the graph already will remain unchanged. Let's add a new node, re-save the graph output, and display the result."
    },
    {
      "metadata": {
        "trusted": true
      },
      "cell_type": "code",
      "source": "graph.node('F', 'The Mystery of Edwin Drood')\ngraph.save(filename='dickens.gv')",
      "execution_count": null,
      "outputs": []
    },
    {
      "metadata": {
        "trusted": true
      },
      "cell_type": "code",
      "source": "Source.from_file(filename='dickens.gv', engine='dot')",
      "execution_count": null,
      "outputs": []
    },
    {
      "metadata": {},
      "cell_type": "markdown",
      "source": "We've now covered the basics of how to create and display a graph using the GraphViz library. In the next section, you'll use these techniques to visualise the spaces of the passage from _Gawain_ that we marked up earlier."
    },
    {
      "metadata": {},
      "cell_type": "markdown",
      "source": "## Part 3: Graphing Story Space\n\nIn this part of the workshop we're going to use your marked-up text from part one and the Python techniques you learned in part two to create a spatial graph."
    },
    {
      "metadata": {},
      "cell_type": "markdown",
      "source": "### Adding Nodes to the Graph\n\nThe settings and spatial references we identified in part one will form the nodes on our spatial network. In the cell below I've created a new empty graph. Because our new graph has many more nodes than our Dickens graph, I've used the .attr() method we saw above to change the way GraphViz handles overlapping nodes so the final graph is easier to read."
    },
    {
      "metadata": {
        "trusted": true
      },
      "cell_type": "code",
      "source": "gawain = Digraph()\ngawain.attr('graph', overlap='scale')",
      "execution_count": 41,
      "outputs": []
    },
    {
      "metadata": {
        "trusted": true
      },
      "cell_type": "markdown",
      "source": "Now, using the techniques you learned in the first part of the workshop, add the spatial nodes to the new graph. We are mapping two types of entity, so use the .attr method to give each type of space a different shape. \n\nA full list of node shapes here: https://www.graphviz.org/doc/info/shapes.html#polygon.\n\nI've added the first below:"
    },
    {
      "metadata": {
        "trusted": true
      },
      "cell_type": "code",
      "source": "gawain.attr('node', shape='circle')\ngawain.node(name='A', label='Logres')",
      "execution_count": 42,
      "outputs": []
    },
    {
      "metadata": {
        "trusted": true
      },
      "cell_type": "code",
      "source": "gawain.node(name='A', label='Logres')",
      "execution_count": 44,
      "outputs": []
    },
    {
      "metadata": {
        "trusted": true
      },
      "cell_type": "code",
      "source": "gawain.node(name='B', label='Curious Regions')\ngawain.node(name='C', label='The Rough Rocks')\ngawain.node(name='D', label='a dark wood')",
      "execution_count": 43,
      "outputs": []
    },
    {
      "metadata": {},
      "cell_type": "markdown",
      "source": "### Identifying Connections\n\nIn Chronotopic Cartographies, we use node edges to describe the relationships between different sorts of space in the literary text. On the project, we're using approaches derived from a sub-discipline of literary studies called 'narratology' (https://en.wikipedia.org/wiki/Narratology) to describe these relationships. However, for our purposes here, we can take a slightly more simple approach.\n\nWe can broadly categorise these relationships in the extract into the following categories:\n\n- 'Connects with': Describes the relationship between settings (ie. does the text indicate that one could physically move between two spaces).\n- 'Refers to': Describes the relationship between settings and named spaces (ie. is a named place referred to from a particular setting).\n\nThese relationships will form the edges of our spatial graph.\n\nRe-read the extract and:\n- List which settings are connected with one another\n- List which named places are referred to from each setting"
    },
    {
      "metadata": {},
      "cell_type": "markdown",
      "source": "### Adding Edges\n\nYou should now have a list of how the spaces of the text are connected with one another. Using the techniques we covered above, add these as edges to the graph."
    },
    {
      "metadata": {
        "trusted": true
      },
      "cell_type": "code",
      "source": "",
      "execution_count": null,
      "outputs": []
    },
    {
      "metadata": {},
      "cell_type": "markdown",
      "source": "### Displaying the Graph\n\nOnce you've added the edges, the final step is to save and display the graph:"
    },
    {
      "metadata": {
        "trusted": true
      },
      "cell_type": "code",
      "source": "gawain.save(filename='gawain.gv')\nSource.from_file(filename='gawain.gv', engine='neato')",
      "execution_count": null,
      "outputs": []
    },
    {
      "metadata": {},
      "cell_type": "markdown",
      "source": "## Next Steps and Resources\n\nThere's many more things we can do with graphs than we've covered in this workshop. With a complex graph, for example, you can analyse which nodes are most significant in a network by measuring how connected each node is with those adjacent to it (used on projects such as Mapping the Republic of Letters http://republicofletters.stanford.edu/ to show who corresponded with whom); or perform a 'shortest path' analysis to determine how close one node on the network is to another. However, in this workshop we've covered the basics. \n\nIf you want to build on what you've learned here, there are resources below.\n\nGraphs:\n- GraphViz (https://graphviz.readthedocs.io/en/stable/manual.html): The full documentation for GraphViz, with many more examples of what you can do with it.\n- NetworkX (https://networkx.github.io/): Another tool for building graphs in Python. In some ways more flexible and easier to use than GraphViz, but only allows you to create and analyse graphs, not lay them out and display them.\n- Gephi (https://gephi.org/): A very full-featured tool for creating, analyising, and displaying graphs. Very useful for visualising large graphs created in NetworkX or GraphViz.\n\nPython:\n- The official Python documentation (https://docs.python.org/3/): Sometimes a bit difficult to understand, but the offical Python documentation is very comprehensive. \n- The Python Package Index (https://pypi.org/): Almost anything you can do with a computer you can do in Python, and someone will have written a library to help you do it. They are all listed here.\n- Stack Overflow (https://stackoverflow.com/questions/tagged/python): Stack Overflow is a website where you can post questions about your code. Chances are, if you're finding something difficult, someone else will have too."
    },
    {
      "metadata": {
        "trusted": true
      },
      "cell_type": "code",
      "source": "",
      "execution_count": null,
      "outputs": []
    }
  ],
  "metadata": {
    "kernelspec": {
      "name": "python3",
      "display_name": "Python 3",
      "language": "python"
    },
    "language_info": {
      "mimetype": "text/x-python",
      "nbconvert_exporter": "python",
      "name": "python",
      "pygments_lexer": "ipython3",
      "version": "3.5.4",
      "file_extension": ".py",
      "codemirror_mode": {
        "version": 3,
        "name": "ipython"
      }
    }
  },
  "nbformat": 4,
  "nbformat_minor": 1
}