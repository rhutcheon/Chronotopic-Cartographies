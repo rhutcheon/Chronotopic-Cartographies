{
  "cells": [
    {
      "metadata": {},
      "cell_type": "markdown",
      "source": "Spatial Network Graphs in Python\n==========================\n\nThis workshop comes out of research conducted on Chronotopic Cartographies (https://www.lancaster.ac.uk/chronotopic-cartographies/), a digital humanities project underway at Lancaster University in the department of English and Creative Writing. The project aims to create new techniques and tools to visualise the relationships between literature and space.\n\nOne of the tools we're using on this project are _graphs_ (https://en.wikipedia.org/wiki/Graph_theory). Graphs, in a mathematical sense, are networks of 'nodes', or the points on a network, and 'edges', the lines which connect them. They are very useful for describing the relationships between things: nodes can represent any object or concept, and the edges which connect them how those objects are related.\n\nGraphs have many applications across a range of different disciplines. If you've ever encountered terms like 'the semantic web' or 'rdf', these are examples of graphs in Information Studies, whilst Facebook uses graphs to model the relationships between people (ie. 'Duncan' 'works with' 'Becca').\n\nA very simple example of a graph, consisting of two nodes connected by a single edge, might be tabulated like this:\n\n|Node|Edge|Node|\n|---|---|---|\n|London ===>|Contains ===>|The British Library|\n\nOn Chronotopic Cartographies, we're using graphs to visualise the spatial structure of stories and poems. Following scholars like Franco Moretti, in recent years there has been a lot of work on _mapping_ literature: that is, using tools like Geographic Information Systems (GIS - https://www.esri.com/en-us/what-is-gis/overview) to show the relationship between fiction and the real world. Chronotopic Cartographies takes a different approach because stories aren't always mappable in this way. A text like _The Hobbit_, for example, takes place in a world which has has no correspondence with ours, whilst _The Lion, The Witch, and The Wardrobe_ has passages which happen in the 'real' world and passages which happen in Narnia. Even in a realist novel like Charles Dickens's _Oliver Twist_, real-world locations are mixed with fictional ones. To truly map literature, we needed to find a way to represent these sorts of relationships.\n\nGraphs are particularly useful for this because they enable us to model what we might term 'story space': that is, to 'map' how the places which are referred to in a text or where action happens are related to one another without concerning ourselves with whether or not they can be mapped onto the real world.\n\nIn this workshop, you'll create a network graph of the spatial structure of a text using of an extract from Sam Selvon's novel _The Lonely Londoners_. Along the way you'll learn some basics with the Python programming language, and learn how to use the GraphViz programming library.\n\n____\n\nPart 1: Python Fundamentals\n------------\n\n*Python* is a programming language used widely in scientific computing and on the web, but as we'll see, also very useful for approaching the sort of data that humanities researchers work with.\n\nThe particular flavour of Python we're using is *iPython*, which allows us to combine text, code, images, equations and figures in a *Notebook*, like this one. \n\nThis is a *cell*, written in *markdown* - a way of writing nicely-formatted text. \n\nContrast this with the *code* cell below, which executes a bit of Python. Select the cell, press the 'run' button in the toolbar and the result will be output below it."
    },
    {
      "metadata": {
        "trusted": true
      },
      "cell_type": "code",
      "source": "print(1 + 1)",
      "execution_count": 3,
      "outputs": [
        {
          "output_type": "stream",
          "text": "2\n",
          "name": "stdout"
        }
      ]
    },
    {
      "metadata": {},
      "cell_type": "markdown",
      "source": "The Notebook format allows you to engage in [Literate Programming](http://en.wikipedia.org/wiki/Literate_programming):\n\n> […] Instead of writing code containing documentation, the literate programmer writes documentation containing code. No longer does the English commentary injected into a program have to be hidden in comment delimiters at the top of the file, or under procedure headings, or at the end of lines. Instead, it is wrenched into the daylight and made the main focus. The \"program\" then becomes primarily a document directed at humans, with the code being herded between \"code delimiters\" from where it can be extracted and shuffled out sideways to the language system by literate programming tools.\n[Ross Williams][1]\n\n[1]: http://www.literateprogramming.com/lpquotes.html\n\nBecause we're using Azure, you also don't have to install anything on your computer or do any complicated things to get up and running - you just need an internet connection and a web browser."
    },
    {
      "metadata": {},
      "cell_type": "markdown",
      "source": "Variables\n---------\n\nA computer program can be thought of as a list of instructions or a recipe. When you run a cell in an iPython notebook, the computer (tries) to execute each instruction in order. \n\nThese instructions can broadly be divided into verbs and nouns: things which *do* things, and things which *are* things. In Python, the verbs can be *commands*, *functions*, or *methods*. We won't worry too much about the distinction here - suffice it to say, they are the parts of code which manipulate data, calculate values, or show things on the screen.\n\nThe simplest proper noun object in Python is the *variable*. Variables are given names and store information. This can be, for example, numeric, text, or boolean (true/false). These are all statements setting up variables:\n\nn = 1\n\nt = \"hi\"\n\nb = True\n\nNow let's try this in code. Run the cell below:"
    },
    {
      "metadata": {
        "trusted": true
      },
      "cell_type": "code",
      "source": "n = 1\n\nt = \"hi\"\n\nb = True",
      "execution_count": 4,
      "outputs": []
    },
    {
      "metadata": {},
      "cell_type": "markdown",
      "source": "Whilst it will seem as though nothing has happened, in fact, you have stored these variables. You can see these below.\n\nNote that each command is on a new line; other than that, the *syntax* of Python should be fairly obvious: we're setting these variables equal to the letters and numbers and phrases and booleans, or True or False values.\n\nThe value of this is we now have values tied to these variables - so every time we want to use a value, we can refer to the variable. Run the cells below to see this in action:"
    },
    {
      "metadata": {
        "trusted": true
      },
      "cell_type": "code",
      "source": "n",
      "execution_count": 5,
      "outputs": [
        {
          "output_type": "execute_result",
          "execution_count": 5,
          "data": {
            "text/plain": "1"
          },
          "metadata": {}
        }
      ]
    },
    {
      "metadata": {
        "trusted": true
      },
      "cell_type": "code",
      "source": "t",
      "execution_count": 6,
      "outputs": [
        {
          "output_type": "execute_result",
          "execution_count": 6,
          "data": {
            "text/plain": "'hi'"
          },
          "metadata": {}
        }
      ]
    },
    {
      "metadata": {
        "trusted": true
      },
      "cell_type": "code",
      "source": "b",
      "execution_count": 7,
      "outputs": [
        {
          "output_type": "execute_result",
          "execution_count": 7,
          "data": {
            "text/plain": "True"
          },
          "metadata": {}
        }
      ]
    },
    {
      "metadata": {},
      "cell_type": "markdown",
      "source": "Because we've defined these variables in the early part of the notebook, we can use them later on."
    },
    {
      "metadata": {},
      "cell_type": "markdown",
      "source": "Where is my data?\n-----------------\n\nWhen we work in Excel or a text editor, we're used to seeing the data on screen - and if we manipulate the data in some way (averaging or summing up), we see both the inputs and outputs on screen. The big difference in working with Python is that we don't see our variables all of the time, or the effect we're having on them. They're there in the background, but it's usually worth checking in on them from time to time, to see whether our processes are doing what we think they're doing.\n\nAs well as just typing the name of the variable, we can also use the 'print' statement to show what's going on."
    },
    {
      "metadata": {
        "trusted": true
      },
      "cell_type": "code",
      "source": "print(n)\nprint(t)\nprint(b)",
      "execution_count": 17,
      "outputs": [
        {
          "output_type": "stream",
          "text": "4\nhi\nTrue\n",
          "name": "stdout"
        }
      ]
    },
    {
      "metadata": {},
      "cell_type": "markdown",
      "source": "It is also possible to reassign the value of a variable once it has been created:"
    },
    {
      "metadata": {
        "trusted": true
      },
      "cell_type": "code",
      "source": "n = n + 1\nprint(n)",
      "execution_count": 16,
      "outputs": [
        {
          "output_type": "stream",
          "text": "4\n",
          "name": "stdout"
        }
      ]
    },
    {
      "metadata": {},
      "cell_type": "markdown",
      "source": "Flow\n----\n\nPython, in common with all programming languages, executes commands in a sequence, which can be referred to as the *flow* of the code (we'll use the word \"code\" a lot - it just means commands written in the programming language). In most cases, code just executes in the order it's written. This is true within each *cell* (each block of text in the notebook), and it's true when we execute the cells in order; that's why we can refer back to the variables we defined earlier:"
    },
    {
      "metadata": {
        "trusted": true
      },
      "cell_type": "code",
      "source": "print(n)",
      "execution_count": 12,
      "outputs": [
        {
          "output_type": "stream",
          "text": "4\n",
          "name": "stdout"
        }
      ]
    },
    {
      "metadata": {},
      "cell_type": "markdown",
      "source": "If we make a change to one of these variables, say n:"
    },
    {
      "metadata": {
        "trusted": true
      },
      "cell_type": "code",
      "source": "n = 3",
      "execution_count": 13,
      "outputs": []
    },
    {
      "metadata": {},
      "cell_type": "markdown",
      "source": "and execute the \"print n\" command in the cell above again, you'll see that it has changed n to 3. So if we were to run the notebook cells out of order, the obvious flow of the code would be confused. \n\nFor this reason, try to write your code so it executes in order, one cell at a time. At least for the moment, this will make it easier to follow the logic of what you're doing to data."
    },
    {
      "metadata": {},
      "cell_type": "markdown",
      "source": "***Exercise - Setting up variables***:\n\n\n1. Create a new cell (Choose 'insert' in the menu bar and then 'cell below')\n\n2. Create the variables \"name\", and assign your name to it (don't forget to use quotation marks)\n\n3. Create a variable \"Python\" and assign a score out of 10 to how much you like Python. \n\n4. Create a variable \"prior\" and if you've used Python before, assign True; otherwise assign False to the variable\n\n5. Print these out to the screen"
    },
    {
      "metadata": {},
      "cell_type": "markdown",
      "source": "Types of Data\n------------\n\nOur variables - 'n', 't', and 'b' are different *types* of data: an Integer, a String (which is the computery way of saying a collection of alphanumeric characters), and a Boolean (or True or False) respectively.\n\nWe can check this as follows:"
    },
    {
      "metadata": {
        "trusted": true
      },
      "cell_type": "code",
      "source": "print(type(n))\nprint(type(t))\nprint(type(b))",
      "execution_count": 18,
      "outputs": [
        {
          "output_type": "stream",
          "text": "<class 'int'>\n<class 'str'>\n<class 'bool'>\n",
          "name": "stdout"
        }
      ]
    },
    {
      "metadata": {},
      "cell_type": "markdown",
      "source": "**Exercise:**\n\nPrint the types of the 'name', 'Python', and 'prior' variables you created earlier."
    },
    {
      "metadata": {
        "trusted": true
      },
      "cell_type": "code",
      "source": "",
      "execution_count": null,
      "outputs": []
    },
    {
      "metadata": {},
      "cell_type": "markdown",
      "source": "It's important to know what types of data you are working with, as sometimes the computer won't do what you expect when you try to work with it in the wrong way. For example, from Python's perspective '3' and 3 (without the quotation marks) are different sorts of things entirely:"
    },
    {
      "metadata": {
        "trusted": true
      },
      "cell_type": "code",
      "source": "a = 3\nb = 4\nc = '3'\nd = 'three'\n\nprint(a + b)\nprint(a + c)",
      "execution_count": 25,
      "outputs": [
        {
          "output_type": "stream",
          "text": "7\n",
          "name": "stdout"
        },
        {
          "output_type": "error",
          "ename": "TypeError",
          "evalue": "unsupported operand type(s) for +: 'int' and 'str'",
          "traceback": [
            "\u001b[0;31m---------------------------------------------------------------------------\u001b[0m",
            "\u001b[0;31mTypeError\u001b[0m                                 Traceback (most recent call last)",
            "\u001b[0;32m<ipython-input-25-2e56ee69754e>\u001b[0m in \u001b[0;36m<module>\u001b[0;34m()\u001b[0m\n\u001b[1;32m      5\u001b[0m \u001b[0;34m\u001b[0m\u001b[0m\n\u001b[1;32m      6\u001b[0m \u001b[0mprint\u001b[0m\u001b[0;34m(\u001b[0m\u001b[0ma\u001b[0m \u001b[0;34m+\u001b[0m \u001b[0mb\u001b[0m\u001b[0;34m)\u001b[0m\u001b[0;34m\u001b[0m\u001b[0m\n\u001b[0;32m----> 7\u001b[0;31m \u001b[0mprint\u001b[0m\u001b[0;34m(\u001b[0m\u001b[0ma\u001b[0m \u001b[0;34m+\u001b[0m \u001b[0mc\u001b[0m\u001b[0;34m)\u001b[0m\u001b[0;34m\u001b[0m\u001b[0m\n\u001b[0m",
            "\u001b[0;31mTypeError\u001b[0m: unsupported operand type(s) for +: 'int' and 'str'"
          ]
        }
      ]
    },
    {
      "metadata": {},
      "cell_type": "markdown",
      "source": "Congratulations! You just got (hopefully) your first error message.\n\nWhilst they can be discouraging, error messages are **good** because they tell you what you've done wrong and where. \n\nLet's look at the message again:\n\n```\nTypeErrorTraceback (most recent call last)\n<ipython-input-18-885691a69056> in <module>()\n      6 print a + b\n----> 7 print a + c\n\nTypeError: unsupported operand type(s) for +: 'int' and 'str'\n```\n\nThe first line of the message tells you what sort of error has occurred - in this case a 'TypeError'. This means that you've tried to do something with a variable that it doesn't make sense to do. \n\nIf we look at the last line of the error message - ```unsupported operand type(s) for +: 'int' and 'str'``` - it tells us what the problem is more detail - we've tried to add together a number (in this case an integer) and a string. From Python's perspective, this doesn't make any sense, so it throws an error.\n\nThe lines in the middle - the 'Traceback' - tell you *where* the error occurred - in this case, line 7.\n\n**Learning how to read error messages is a very important part of programming!**\n\n**Exercise: What happens when you add variables c and d together?**"
    },
    {
      "metadata": {
        "trusted": true
      },
      "cell_type": "code",
      "source": "print(c + d)",
      "execution_count": 27,
      "outputs": [
        {
          "output_type": "stream",
          "text": "3three\n",
          "name": "stdout"
        }
      ]
    },
    {
      "metadata": {},
      "cell_type": "markdown",
      "source": "_______\nPart 2: The GraphViz Library\n---------\n\nEven with the few things we've learned so far you - variables, operands, and types - we can do quite a lot. However, to do some real work, unless we want to spend the next 10 years turning ourselves into programming geniuses, we're going to have to rely on other people's efforts. \n\nThe way that we do this is by using *libraries* - collections of tools written by other programmers that are not part of the core Python language and which provide additional functions and techniques to help us do things.\n\nTo make our graph visualisations we're going to be working with the GraphViz library. GraphViz allows you to create and display network graphs. You can read more about what it's capable of here: https://graphviz.org/\n\nThe next few cells go over the basics of how you go about working with it."
    },
    {
      "metadata": {},
      "cell_type": "markdown",
      "source": "### Importing Components\n\nTo start working with a library, the first thing you need to do is _import_ the components you want to work with into your library. To begin with, we're going to import one component (or, to be specific, a _Class_): _Digraph_. This allows us to create a 'directed' graph, or one which encodes the direction of the edges that link the nodes of a network.\n\nTo get started, run the cell below:"
    },
    {
      "metadata": {
        "trusted": true
      },
      "cell_type": "code",
      "source": "from graphviz import Digraph",
      "execution_count": 2,
      "outputs": []
    },
    {
      "metadata": {
        "trusted": true
      },
      "cell_type": "markdown",
      "source": "Although we haven't got any feedback to show it, the Digraph class is now available to do some work with. To create a new empty graph, we create a variable to hold it in, like so:"
    },
    {
      "metadata": {
        "trusted": true
      },
      "cell_type": "code",
      "source": "graph = Digraph()",
      "execution_count": 7,
      "outputs": []
    },
    {
      "metadata": {},
      "cell_type": "markdown",
      "source": "We can find out a little bit more about what we can do with a Digraph object by typing the name of our new variable followed by a full stop and then pressing the 'tab' key. Give it a go in the cell below:"
    },
    {
      "metadata": {
        "trusted": true
      },
      "cell_type": "code",
      "source": "graph.",
      "execution_count": 14,
      "outputs": []
    },
    {
      "metadata": {},
      "cell_type": "markdown",
      "source": "You should get a list of all of the things that a Digraph object can do. As we've covered already, a graph is a way of describing things or concepts (nodes) and the relations between (edges) as a network. \n\nIn the list of things our new Digraph object can do you may have spotted 'graph.node' and 'graph.edge'. We can find out more about these by following them with a question mark and then running the cell, like so:"
    },
    {
      "metadata": {
        "trusted": true
      },
      "cell_type": "code",
      "source": "graph.node?",
      "execution_count": 57,
      "outputs": []
    },
    {
      "metadata": {},
      "cell_type": "markdown",
      "source": "A window should appear at the bottom of your screen telling you more about .ndoe. As you might expect, .node creates a new node on the network."
    },
    {
      "metadata": {
        "trusted": true
      },
      "cell_type": "code",
      "source": "graph.edge?",
      "execution_count": 58,
      "outputs": []
    },
    {
      "metadata": {},
      "cell_type": "markdown",
      "source": "And .edge creates an edge between two nodes.\n\n### Populating the Graph\n\nTo start populating our graph, then, we need to create some nodes. To do this, first run the graph.node? cell again. In the window that pops up at the bottom of your screen, you'll see a list of 'Args', or _arguments_ which we can pass to .node. These define the properties of a node. \n\nThe syntax for passing arguments is very similar to setting the value of a variable: the name of the argument followed by the equals sign and then the value that you wish to pass. Note that mulptiple arguments are separated by a comma.\n\nLet's make a node:"
    },
    {
      "metadata": {
        "trusted": true
      },
      "cell_type": "code",
      "source": "graph.node(name='A', label='Charles Dickens')",
      "execution_count": 59,
      "outputs": []
    },
    {
      "metadata": {},
      "cell_type": "markdown",
      "source": "And a few more:"
    },
    {
      "metadata": {
        "trusted": true
      },
      "cell_type": "code",
      "source": "graph.node(name='B', label='Little Doritt')\ngraph.node(name='C', label='Bleak House')\ngraph.node(name='D', label='A Tale of Two Cities')\ngraph.node(name='E', label='Oliver Twist')",
      "execution_count": 60,
      "outputs": []
    },
    {
      "metadata": {},
      "cell_type": "markdown",
      "source": "Adding an edge is very similar; however, rather than passing a 'name' argument, we need to give 'tail_name' and 'head_name' arguments instead (you can check this by running the graph.edge? cell above).\n\nAs you can see, this is why the 'name' argument needs to be unique for each node, as we use the names of the nodes to distinguish them from one another:"
    },
    {
      "metadata": {
        "trusted": true
      },
      "cell_type": "code",
      "source": "graph.edge(tail_name='A', head_name='B', label='wrote')",
      "execution_count": 22,
      "outputs": []
    },
    {
      "metadata": {},
      "cell_type": "markdown",
      "source": "**Exercise: Add edges connecting the other nodes to each other (as you see fit)**"
    },
    {
      "metadata": {
        "trusted": true
      },
      "cell_type": "code",
      "source": "",
      "execution_count": null,
      "outputs": []
    },
    {
      "metadata": {},
      "cell_type": "markdown",
      "source": "You should now have a graph of nodes (Dickens and his novels) and edges (the relationship between these nodes). We can get a list of what's in it by running the following command:"
    },
    {
      "metadata": {
        "trusted": true
      },
      "cell_type": "code",
      "source": "print(graph.source)",
      "execution_count": 61,
      "outputs": [
        {
          "output_type": "stream",
          "text": "digraph {\n\tA [label=\"Charles Dickens\"]\n\tB [label=\"Little Doritt\"]\n\tC [label=\"Bleak House\"]\n\tD [label=\"A Tale of Two Cities\"]\n\tE [label=\"Oliver Twist\"]\n\tA -> B [label=wrote]\n\tA -> C [label=wrote]\n\tA -> D [label=wrote]\n\tA -> E [label=wrote]\n\tA [label=\"Charles Dickens\"]\n\tB [label=\"Little Doritt\"]\n\tC [label=\"Bleak House\"]\n\tD [label=\"A Tale of Two Cities\"]\n\tE [label=\"Oliver Twist\"]\n\tgraph [overlap=scale]\n\tA [label=\"Charles Dickens\"]\n\tB [label=\"Little Doritt\"]\n\tC [label=\"Bleak House\"]\n\tD [label=\"A Tale of Two Cities\"]\n\tE [label=\"Oliver Twist\"]\n}\n",
          "name": "stdout"
        }
      ]
    },
    {
      "metadata": {},
      "cell_type": "markdown",
      "source": "You should get a list of nodes followed by their labels, and a list of edges in the format 'A -> B'.\n\n### Displaying the graph\n\nThis is all very well, but it'd be much more helpful if we could visualise this information. To do this, we have to save the output from the previous command as a file. We can use the .save method to do this, like so:"
    },
    {
      "metadata": {
        "trusted": true
      },
      "cell_type": "code",
      "source": "graph.save(filename='dickens.gv')",
      "execution_count": 29,
      "outputs": []
    },
    {
      "metadata": {},
      "cell_type": "markdown",
      "source": "Finally, we can use another component of the GraphViz library - Source - to render the graph. As before, we need to import it into our notebook as follows:"
    },
    {
      "metadata": {
        "trusted": true
      },
      "cell_type": "code",
      "source": "from graphviz import Source",
      "execution_count": 39,
      "outputs": []
    },
    {
      "metadata": {},
      "cell_type": "markdown",
      "source": "Just like the Digraph Class we imported above, Source contains a number of functions. One of them, .from_file, enables us to draw a graph as an image from the file we just saved:"
    },
    {
      "metadata": {
        "trusted": true
      },
      "cell_type": "code",
      "source": "Source.from_file(filename='dickens.gv')",
      "execution_count": 64,
      "outputs": [
        {
          "output_type": "execute_result",
          "execution_count": 64,
          "data": {
            "text/plain": "<graphviz.files.Source at 0x7ff8492d1f98>",
            "image/svg+xml": "<?xml version=\"1.0\" encoding=\"UTF-8\" standalone=\"no\"?>\n<!DOCTYPE svg PUBLIC \"-//W3C//DTD SVG 1.1//EN\"\n \"http://www.w3.org/Graphics/SVG/1.1/DTD/svg11.dtd\">\n<!-- Generated by graphviz version 2.38.0 (20140413.2041)\n -->\n<!-- Title: %3 Pages: 1 -->\n<svg width=\"564pt\" height=\"131pt\"\n viewBox=\"0.00 0.00 564.19 131.00\" xmlns=\"http://www.w3.org/2000/svg\" xmlns:xlink=\"http://www.w3.org/1999/xlink\">\n<g id=\"graph0\" class=\"graph\" transform=\"scale(1 1) rotate(0) translate(4 127)\">\n<title>%3</title>\n<polygon fill=\"white\" stroke=\"none\" points=\"-4,4 -4,-127 560.19,-127 560.19,4 -4,4\"/>\n<!-- A -->\n<g id=\"node1\" class=\"node\"><title>A</title>\n<ellipse fill=\"none\" stroke=\"black\" cx=\"260.295\" cy=\"-105\" rx=\"68.7879\" ry=\"18\"/>\n<text text-anchor=\"middle\" x=\"260.295\" y=\"-101.3\" font-family=\"Times,serif\" font-size=\"14.00\">Charles Dickens</text>\n</g>\n<!-- B -->\n<g id=\"node2\" class=\"node\"><title>B</title>\n<ellipse fill=\"none\" stroke=\"black\" cx=\"53.2953\" cy=\"-18\" rx=\"53.0913\" ry=\"18\"/>\n<text text-anchor=\"middle\" x=\"53.2953\" y=\"-14.3\" font-family=\"Times,serif\" font-size=\"14.00\">Little Doritt</text>\n</g>\n<!-- A&#45;&gt;B -->\n<g id=\"edge1\" class=\"edge\"><title>A&#45;&gt;B</title>\n<path fill=\"none\" stroke=\"black\" d=\"M224.711,-89.388C188.692,-74.5978 133.027,-51.74 94.968,-36.112\"/>\n<polygon fill=\"black\" stroke=\"black\" points=\"96.2741,-32.8648 85.6941,-32.3039 93.6151,-39.3401 96.2741,-32.8648\"/>\n<text text-anchor=\"middle\" x=\"184.795\" y=\"-57.8\" font-family=\"Times,serif\" font-size=\"14.00\">wrote</text>\n</g>\n<!-- C -->\n<g id=\"node3\" class=\"node\"><title>C</title>\n<ellipse fill=\"none\" stroke=\"black\" cx=\"180.295\" cy=\"-18\" rx=\"55.7903\" ry=\"18\"/>\n<text text-anchor=\"middle\" x=\"180.295\" y=\"-14.3\" font-family=\"Times,serif\" font-size=\"14.00\">Bleak House</text>\n</g>\n<!-- A&#45;&gt;C -->\n<g id=\"edge2\" class=\"edge\"><title>A&#45;&gt;C</title>\n<path fill=\"none\" stroke=\"black\" d=\"M244.49,-87.2067C232.579,-74.5518 216.084,-57.026 202.798,-42.9088\"/>\n<polygon fill=\"black\" stroke=\"black\" points=\"205.198,-40.3524 195.796,-35.4692 200.101,-45.15 205.198,-40.3524\"/>\n<text text-anchor=\"middle\" x=\"240.795\" y=\"-57.8\" font-family=\"Times,serif\" font-size=\"14.00\">wrote</text>\n</g>\n<!-- D -->\n<g id=\"node4\" class=\"node\"><title>D</title>\n<ellipse fill=\"none\" stroke=\"black\" cx=\"340.295\" cy=\"-18\" rx=\"86.3847\" ry=\"18\"/>\n<text text-anchor=\"middle\" x=\"340.295\" y=\"-14.3\" font-family=\"Times,serif\" font-size=\"14.00\">A Tale of Two Cities</text>\n</g>\n<!-- A&#45;&gt;D -->\n<g id=\"edge3\" class=\"edge\"><title>A&#45;&gt;D</title>\n<path fill=\"none\" stroke=\"black\" d=\"M276.101,-87.2067C287.934,-74.6335 304.293,-57.252 317.535,-43.1825\"/>\n<polygon fill=\"black\" stroke=\"black\" points=\"320.218,-45.4392 324.523,-35.7584 315.12,-40.6416 320.218,-45.4392\"/>\n<text text-anchor=\"middle\" x=\"320.795\" y=\"-57.8\" font-family=\"Times,serif\" font-size=\"14.00\">wrote</text>\n</g>\n<!-- E -->\n<g id=\"node5\" class=\"node\"><title>E</title>\n<ellipse fill=\"none\" stroke=\"black\" cx=\"500.295\" cy=\"-18\" rx=\"55.7903\" ry=\"18\"/>\n<text text-anchor=\"middle\" x=\"500.295\" y=\"-14.3\" font-family=\"Times,serif\" font-size=\"14.00\">Oliver Twist</text>\n</g>\n<!-- A&#45;&gt;E -->\n<g id=\"edge4\" class=\"edge\"><title>A&#45;&gt;E</title>\n<path fill=\"none\" stroke=\"black\" d=\"M299.39,-90.1541C341.834,-75.1215 409.557,-51.1365 454.47,-35.2296\"/>\n<polygon fill=\"black\" stroke=\"black\" points=\"455.712,-38.503 463.97,-31.8653 453.375,-31.9046 455.712,-38.503\"/>\n<text text-anchor=\"middle\" x=\"409.795\" y=\"-57.8\" font-family=\"Times,serif\" font-size=\"14.00\">wrote</text>\n</g>\n</g>\n</svg>\n"
          },
          "metadata": {}
        }
      ]
    },
    {
      "metadata": {},
      "cell_type": "markdown",
      "source": "If we investigate what else .from_file can do using the '?' technique we used earlier, we can see that it takes other arguments as well as 'filename':"
    },
    {
      "metadata": {
        "trusted": true
      },
      "cell_type": "code",
      "source": "Source.from_file?",
      "execution_count": 65,
      "outputs": []
    },
    {
      "metadata": {},
      "cell_type": "markdown",
      "source": "Under the list of arguments, you'll see that there is one called 'engine'. This allows us to change the way the graph is laid out. If you scroll down to the 'roadmap' section on this website - http://www.graphviz.org/ - you can see a list of all the different layout engines available.\n\n**Exercise: Use the 'engine' argument to experiment with different graph layouts**\n\n(Note: You may get an error using the 'twopi' layout)."
    },
    {
      "metadata": {
        "trusted": true
      },
      "cell_type": "code",
      "source": "Source.from_file(filename='dickens.gv', engine='dot')",
      "execution_count": 70,
      "outputs": [
        {
          "output_type": "execute_result",
          "execution_count": 70,
          "data": {
            "text/plain": "<graphviz.files.Source at 0x7ff849324ef0>",
            "image/svg+xml": "<?xml version=\"1.0\" encoding=\"UTF-8\" standalone=\"no\"?>\n<!DOCTYPE svg PUBLIC \"-//W3C//DTD SVG 1.1//EN\"\n \"http://www.w3.org/Graphics/SVG/1.1/DTD/svg11.dtd\">\n<!-- Generated by graphviz version 2.38.0 (20140413.2041)\n -->\n<!-- Title: %3 Pages: 1 -->\n<svg width=\"564pt\" height=\"131pt\"\n viewBox=\"0.00 0.00 564.19 131.00\" xmlns=\"http://www.w3.org/2000/svg\" xmlns:xlink=\"http://www.w3.org/1999/xlink\">\n<g id=\"graph0\" class=\"graph\" transform=\"scale(1 1) rotate(0) translate(4 127)\">\n<title>%3</title>\n<polygon fill=\"white\" stroke=\"none\" points=\"-4,4 -4,-127 560.19,-127 560.19,4 -4,4\"/>\n<!-- A -->\n<g id=\"node1\" class=\"node\"><title>A</title>\n<ellipse fill=\"none\" stroke=\"black\" cx=\"260.295\" cy=\"-105\" rx=\"68.7879\" ry=\"18\"/>\n<text text-anchor=\"middle\" x=\"260.295\" y=\"-101.3\" font-family=\"Times,serif\" font-size=\"14.00\">Charles Dickens</text>\n</g>\n<!-- B -->\n<g id=\"node2\" class=\"node\"><title>B</title>\n<ellipse fill=\"none\" stroke=\"black\" cx=\"53.2953\" cy=\"-18\" rx=\"53.0913\" ry=\"18\"/>\n<text text-anchor=\"middle\" x=\"53.2953\" y=\"-14.3\" font-family=\"Times,serif\" font-size=\"14.00\">Little Doritt</text>\n</g>\n<!-- A&#45;&gt;B -->\n<g id=\"edge1\" class=\"edge\"><title>A&#45;&gt;B</title>\n<path fill=\"none\" stroke=\"black\" d=\"M224.711,-89.388C188.692,-74.5978 133.027,-51.74 94.968,-36.112\"/>\n<polygon fill=\"black\" stroke=\"black\" points=\"96.2741,-32.8648 85.6941,-32.3039 93.6151,-39.3401 96.2741,-32.8648\"/>\n<text text-anchor=\"middle\" x=\"184.795\" y=\"-57.8\" font-family=\"Times,serif\" font-size=\"14.00\">wrote</text>\n</g>\n<!-- C -->\n<g id=\"node3\" class=\"node\"><title>C</title>\n<ellipse fill=\"none\" stroke=\"black\" cx=\"180.295\" cy=\"-18\" rx=\"55.7903\" ry=\"18\"/>\n<text text-anchor=\"middle\" x=\"180.295\" y=\"-14.3\" font-family=\"Times,serif\" font-size=\"14.00\">Bleak House</text>\n</g>\n<!-- A&#45;&gt;C -->\n<g id=\"edge2\" class=\"edge\"><title>A&#45;&gt;C</title>\n<path fill=\"none\" stroke=\"black\" d=\"M244.49,-87.2067C232.579,-74.5518 216.084,-57.026 202.798,-42.9088\"/>\n<polygon fill=\"black\" stroke=\"black\" points=\"205.198,-40.3524 195.796,-35.4692 200.101,-45.15 205.198,-40.3524\"/>\n<text text-anchor=\"middle\" x=\"240.795\" y=\"-57.8\" font-family=\"Times,serif\" font-size=\"14.00\">wrote</text>\n</g>\n<!-- D -->\n<g id=\"node4\" class=\"node\"><title>D</title>\n<ellipse fill=\"none\" stroke=\"black\" cx=\"340.295\" cy=\"-18\" rx=\"86.3847\" ry=\"18\"/>\n<text text-anchor=\"middle\" x=\"340.295\" y=\"-14.3\" font-family=\"Times,serif\" font-size=\"14.00\">A Tale of Two Cities</text>\n</g>\n<!-- A&#45;&gt;D -->\n<g id=\"edge3\" class=\"edge\"><title>A&#45;&gt;D</title>\n<path fill=\"none\" stroke=\"black\" d=\"M276.101,-87.2067C287.934,-74.6335 304.293,-57.252 317.535,-43.1825\"/>\n<polygon fill=\"black\" stroke=\"black\" points=\"320.218,-45.4392 324.523,-35.7584 315.12,-40.6416 320.218,-45.4392\"/>\n<text text-anchor=\"middle\" x=\"320.795\" y=\"-57.8\" font-family=\"Times,serif\" font-size=\"14.00\">wrote</text>\n</g>\n<!-- E -->\n<g id=\"node5\" class=\"node\"><title>E</title>\n<ellipse fill=\"none\" stroke=\"black\" cx=\"500.295\" cy=\"-18\" rx=\"55.7903\" ry=\"18\"/>\n<text text-anchor=\"middle\" x=\"500.295\" y=\"-14.3\" font-family=\"Times,serif\" font-size=\"14.00\">Oliver Twist</text>\n</g>\n<!-- A&#45;&gt;E -->\n<g id=\"edge4\" class=\"edge\"><title>A&#45;&gt;E</title>\n<path fill=\"none\" stroke=\"black\" d=\"M299.39,-90.1541C341.834,-75.1215 409.557,-51.1365 454.47,-35.2296\"/>\n<polygon fill=\"black\" stroke=\"black\" points=\"455.712,-38.503 463.97,-31.8653 453.375,-31.9046 455.712,-38.503\"/>\n<text text-anchor=\"middle\" x=\"409.795\" y=\"-57.8\" font-family=\"Times,serif\" font-size=\"14.00\">wrote</text>\n</g>\n</g>\n</svg>\n"
          },
          "metadata": {}
        }
      ]
    },
    {
      "metadata": {},
      "cell_type": "markdown",
      "source": "We've now covered the basics of how to create and display a graph using the GraphViz library. In the next section, you'll use these techniques to visualise the spaces of the opening section of Sam Selvon's novel _The Lonely Londoners_."
    },
    {
      "metadata": {},
      "cell_type": "markdown",
      "source": "___\n## Part 3: Graphing Story Space"
    },
    {
      "metadata": {},
      "cell_type": "markdown",
      "source": "The final part of the workshop consists of two parts: first, we're going to work on paper to annotate the first section of Sam Selvon's novel _The Lonely Londoners_. You're then going to use the techniques you learned in the first half to create a spatial graph of your annotated text. As you'll see, whilst the passage you've been given has a clear spatial structure, there's some ambiguity to it, so each person's graph is likely to be slightly different. What we're creating, then, are not authoritative maps of the text, but of our interpretations of it.\n\n### Exercise: Identifying Spatial Structure\n\nIn the Chronotopic Cartographies project, we're interested in two primary aspects of the spatial structure of texts: settings, or the places in the text in which the action happens; and named places, or places in the text that are referred to but don't necessarily have action occurring in them. These will form the nodes of our graph.\n\nNamed places are fairly self-explanatory, but setting is a bit more complex. A good way of thinking about setting is to think about how you would represent a section of text if it were a play or a film: what sets would you need, and where is the scene occurring?\n\n#### Identifying Settings\n\n- Read the extract from _The Lonely Londoners_, and, with the person sat next to you, mark the places where you think the action occurs, or where the story moves from one place to another. \n\n- Once you've identified each setting, give each one a name.\n\n#### Identifying Named Places\n\n- "
    },
    {
      "metadata": {
        "trusted": true
      },
      "cell_type": "code",
      "source": "lon_lon = Digraph()\nlon_lon.attr('graph', overlap='scale')",
      "execution_count": 72,
      "outputs": []
    },
    {
      "metadata": {
        "trusted": true
      },
      "cell_type": "code",
      "source": "",
      "execution_count": null,
      "outputs": []
    }
  ],
  "metadata": {
    "kernelspec": {
      "name": "python3",
      "display_name": "Python 3",
      "language": "python"
    },
    "language_info": {
      "mimetype": "text/x-python",
      "nbconvert_exporter": "python",
      "name": "python",
      "file_extension": ".py",
      "version": "3.5.4",
      "pygments_lexer": "ipython3",
      "codemirror_mode": {
        "version": 3,
        "name": "ipython"
      }
    }
  },
  "nbformat": 4,
  "nbformat_minor": 1
}